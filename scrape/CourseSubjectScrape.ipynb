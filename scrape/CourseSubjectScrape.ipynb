{
 "cells": [
  {
   "cell_type": "code",
   "execution_count": 1,
   "metadata": {},
   "outputs": [],
   "source": [
    "import requests\n",
    "import json\n",
    "from bs4 import BeautifulSoup\n",
    "import pandas as pd"
   ]
  },
  {
   "cell_type": "markdown",
   "metadata": {},
   "source": [
    "## KhanAcademy"
   ]
  },
  {
   "cell_type": "code",
   "execution_count": 21,
   "metadata": {},
   "outputs": [],
   "source": [
    "base_url = \"https://khanacademy.org/api/v1/topic/\"\n",
    "slug = \"root\""
   ]
  },
  {
   "cell_type": "code",
   "execution_count": 22,
   "metadata": {},
   "outputs": [],
   "source": [
    "r = requests.get(base_url + slug)\n",
    "soup = BeautifulSoup(r.text,'lxml')"
   ]
  },
  {
   "cell_type": "code",
   "execution_count": 24,
   "metadata": {},
   "outputs": [],
   "source": [
    "children = json.loads(soup.p.text)['children']\n",
    "topics = []\n",
    "for child in children:\n",
    "     topics.append(child['node_slug'])"
   ]
  },
  {
   "cell_type": "code",
   "execution_count": 25,
   "metadata": {
    "scrolled": true
   },
   "outputs": [
    {
     "data": {
      "text/plain": [
       "['math',\n",
       " 'science',\n",
       " 'economics-finance-domain',\n",
       " 'humanities',\n",
       " 'computing',\n",
       " 'test-prep',\n",
       " 'educator-test',\n",
       " 'partner-content',\n",
       " 'talks-and-interviews',\n",
       " 'college-careers-more',\n",
       " 'talent-search',\n",
       " 'resources',\n",
       " 'mappers']"
      ]
     },
     "execution_count": 25,
     "metadata": {},
     "output_type": "execute_result"
    }
   ],
   "source": [
    "topics"
   ]
  },
  {
   "cell_type": "code",
   "execution_count": 26,
   "metadata": {},
   "outputs": [],
   "source": [
    "topics = topics[:5]"
   ]
  },
  {
   "cell_type": "code",
   "execution_count": 45,
   "metadata": {},
   "outputs": [],
   "source": [
    "subtopics = {slug: [] for slug in topics}\n",
    "for slug in topics:\n",
    "    r = requests.get(base_url + slug)\n",
    "    soup = BeautifulSoup(r.text,'lxml')\n",
    "    info = json.loads(soup.p.text)['children']\n",
    "    for sub_slug in info:\n",
    "        subtopics[slug].append(sub_slug['node_slug'])"
   ]
  },
  {
   "cell_type": "code",
   "execution_count": 46,
   "metadata": {
    "scrolled": true
   },
   "outputs": [
    {
     "data": {
      "text/plain": [
       "{'computing': ['computer-programming', 'computer-science', 'hour-of-code'],\n",
       " 'economics-finance-domain': ['ap-macroeconomics',\n",
       "  'macroeconomics',\n",
       "  'ap-microeconomics',\n",
       "  'microeconomics',\n",
       "  'core-finance'],\n",
       " 'humanities': ['us-history',\n",
       "  'world-history',\n",
       "  'ap-world-history',\n",
       "  'ap-us-government-and-politics',\n",
       "  'art-history',\n",
       "  'grammar',\n",
       "  'music',\n",
       "  'special-topics-art-history',\n",
       "  'arts-humanities-partners'],\n",
       " 'math': ['early-math',\n",
       "  'cc-kindergarten-math',\n",
       "  'cc-1st-grade-math',\n",
       "  'cc-2nd-grade-math',\n",
       "  'cc-third-grade-math',\n",
       "  'cc-fourth-grade-math',\n",
       "  'cc-fifth-grade-math',\n",
       "  'cc-sixth-grade-math',\n",
       "  'cc-seventh-grade-math',\n",
       "  'cc-eighth-grade-math',\n",
       "  'arithmetic',\n",
       "  'basic-geo',\n",
       "  'pre-algebra',\n",
       "  'algebra-basics',\n",
       "  'algebra',\n",
       "  'geometry',\n",
       "  'algebra2',\n",
       "  'trigonometry',\n",
       "  'statistics-probability',\n",
       "  'probability',\n",
       "  'ap-statistics',\n",
       "  'precalculus',\n",
       "  'differential-calculus',\n",
       "  'integral-calculus',\n",
       "  'ap-calculus-ab',\n",
       "  'ap-calculus-bc',\n",
       "  'multivariable-calculus',\n",
       "  'differential-equations',\n",
       "  'linear-algebra',\n",
       "  '3rd-engage-ny',\n",
       "  '4th-engage-ny',\n",
       "  '5th-engage-ny',\n",
       "  '6th-engage-ny',\n",
       "  '7th-engage-ny',\n",
       "  '8th-engage-ny',\n",
       "  'engageny-alg-1',\n",
       "  'engageny-geo',\n",
       "  'engageny-alg2',\n",
       "  'engageny-precalc',\n",
       "  '3rd-grade-foundations-engageny',\n",
       "  '4th-grade-foundations-engageny',\n",
       "  '5th-grade-foundations-engageny',\n",
       "  '6th-grade-foundations-engageny',\n",
       "  '7th-grade-foundations-engageny',\n",
       "  '8th-grade-foundations-engageny',\n",
       "  'math1',\n",
       "  'math2',\n",
       "  'math3',\n",
       "  'arithmetic-home',\n",
       "  'algebra-home',\n",
       "  'geometry-home',\n",
       "  'calculus-home',\n",
       "  'math-for-fun-and-glory'],\n",
       " 'science': ['physics',\n",
       "  'chemistry',\n",
       "  'organic-chemistry',\n",
       "  'biology',\n",
       "  'high-school-biology',\n",
       "  'cosmology-and-astronomy',\n",
       "  'electrical-engineering',\n",
       "  'health-and-medicine',\n",
       "  'science-engineering-partners']}"
      ]
     },
     "execution_count": 46,
     "metadata": {},
     "output_type": "execute_result"
    }
   ],
   "source": [
    "subtopics"
   ]
  },
  {
   "cell_type": "markdown",
   "metadata": {},
   "source": [
    "#### A lot of extras, so let's cut down - KhanAcademy is more for people still in primary school"
   ]
  },
  {
   "cell_type": "code",
   "execution_count": 67,
   "metadata": {},
   "outputs": [],
   "source": [
    "subtopics['computing'] = [a for a in subtopics['computing'][:-1]]"
   ]
  },
  {
   "cell_type": "code",
   "execution_count": 69,
   "metadata": {},
   "outputs": [],
   "source": [
    "subtopics['economics-finance-domain'] = [a for a in subtopics['economics-finance-domain'] if 'ap-' not in a]"
   ]
  },
  {
   "cell_type": "code",
   "execution_count": 70,
   "metadata": {},
   "outputs": [],
   "source": [
    "subtopics['humanities'] = [a for a in subtopics['humanities'] if 'ap-' not in a and 'partners' not in a and 'special' not in a]"
   ]
  },
  {
   "cell_type": "code",
   "execution_count": 71,
   "metadata": {},
   "outputs": [],
   "source": [
    "subtopics['math'] = ['statistics-probability', 'probability', 'multivariable-calculus','differential-equations','linear-algebra']"
   ]
  },
  {
   "cell_type": "code",
   "execution_count": 72,
   "metadata": {},
   "outputs": [],
   "source": [
    "subtopics['science'] = [a for a in subtopics['science'][:-1]]"
   ]
  },
  {
   "cell_type": "code",
   "execution_count": 73,
   "metadata": {
    "scrolled": true
   },
   "outputs": [
    {
     "data": {
      "text/plain": [
       "{'computing': ['computer-programming', 'computer-science'],\n",
       " 'economics-finance-domain': ['macroeconomics',\n",
       "  'microeconomics',\n",
       "  'core-finance'],\n",
       " 'humanities': ['us-history',\n",
       "  'world-history',\n",
       "  'art-history',\n",
       "  'grammar',\n",
       "  'music'],\n",
       " 'math': ['statistics-probability',\n",
       "  'probability',\n",
       "  'multivariable-calculus',\n",
       "  'differential-equations',\n",
       "  'linear-algebra'],\n",
       " 'science': ['physics',\n",
       "  'chemistry',\n",
       "  'organic-chemistry',\n",
       "  'biology',\n",
       "  'high-school-biology',\n",
       "  'cosmology-and-astronomy',\n",
       "  'electrical-engineering']}"
      ]
     },
     "execution_count": 73,
     "metadata": {},
     "output_type": "execute_result"
    }
   ],
   "source": [
    "subtopics"
   ]
  },
  {
   "cell_type": "markdown",
   "metadata": {},
   "source": [
    "#### Now let's go through all their possible classes"
   ]
  },
  {
   "cell_type": "code",
   "execution_count": 74,
   "metadata": {},
   "outputs": [],
   "source": [
    "ka_dict = {\n",
    "    \"Course\": [],\n",
    "    \"Description\": [],\n",
    "    \"Image\": [],\n",
    "    \"Instructor\": [],\n",
    "    \"Link\": [],\n",
    "    \"Price\": [],\n",
    "    \"Subject\": [],\n",
    "    \"Provider\": []\n",
    "}"
   ]
  },
  {
   "cell_type": "code",
   "execution_count": 75,
   "metadata": {},
   "outputs": [],
   "source": [
    "course_url = base_url + subtopics['computing'][1]\n",
    "r = requests.get(course_url)\n",
    "soup = BeautifulSoup(r.text,'lxml')"
   ]
  },
  {
   "cell_type": "code",
   "execution_count": 76,
   "metadata": {},
   "outputs": [],
   "source": [
    "for topic in subtopics:\n",
    "    for subject in subtopics[topic]:\n",
    "        course_url = base_url + subject\n",
    "        r = requests.get(course_url)\n",
    "        soup = BeautifulSoup(r.text,'lxml')\n",
    "        children = json.loads(soup.p.text)['children']\n",
    "        for course in children:\n",
    "            ka_dict[\"Course\"].append(course['title'])\n",
    "            ka_dict[\"Description\"].append(course['description'])\n",
    "            ka_dict[\"Image\"].append(course['icon'])\n",
    "            ka_dict[\"Instructor\"].append(\"None\")\n",
    "            ka_dict[\"Link\"].append(course['url'])\n",
    "            ka_dict[\"Price\"].append(\"Free\")\n",
    "            ka_dict[\"Subject\"].append(subject.replace(\"-\", \" \"))\n",
    "            ka_dict[\"Provider\"].append(\"Khan Academy\")"
   ]
  },
  {
   "cell_type": "code",
   "execution_count": 77,
   "metadata": {
    "scrolled": true
   },
   "outputs": [],
   "source": [
    "ka_df = pd.DataFrame.from_dict(ka_dict)"
   ]
  },
  {
   "cell_type": "code",
   "execution_count": 90,
   "metadata": {},
   "outputs": [],
   "source": [
    "ka_df = ka_df.drop_duplicates(subset = ['Course'])"
   ]
  },
  {
   "cell_type": "code",
   "execution_count": 91,
   "metadata": {},
   "outputs": [],
   "source": [
    "ka_df.to_csv(\"khan_courses.csv\")"
   ]
  },
  {
   "cell_type": "code",
   "execution_count": 92,
   "metadata": {},
   "outputs": [
    {
     "data": {
      "text/plain": [
       "215"
      ]
     },
     "execution_count": 92,
     "metadata": {},
     "output_type": "execute_result"
    }
   ],
   "source": [
    "len(ka_df.Course.unique())"
   ]
  },
  {
   "cell_type": "markdown",
   "metadata": {},
   "source": [
    "#### Let's extract the subject information now"
   ]
  },
  {
   "cell_type": "code",
   "execution_count": 112,
   "metadata": {},
   "outputs": [],
   "source": [
    "real_subjects = ka_df.Subject.unique()"
   ]
  },
  {
   "cell_type": "code",
   "execution_count": 114,
   "metadata": {},
   "outputs": [],
   "source": [
    "subject_info = {\n",
    "    \"Subject\": [],\n",
    "    \"Provider\": [],\n",
    "    \"Image\": [],\n",
    "    \"Courses\": []\n",
    "}"
   ]
  },
  {
   "cell_type": "code",
   "execution_count": 115,
   "metadata": {},
   "outputs": [],
   "source": [
    "for subject in real_subjects:\n",
    "    subject_info[\"Subject\"].append(subject)\n",
    "    subject_info[\"Provider\"].append(\"Khan Academy\")\n",
    "    subject_info[\"Courses\"].append(';'.join([course for course in ka_df[ka_df.Subject == subject].Course])) # collect all courses\n",
    "    subject_info[\"Image\"].append(ka_df[ka_df.Subject == subject].mode().Image[0]) # get most occuring"
   ]
  },
  {
   "cell_type": "code",
   "execution_count": 117,
   "metadata": {},
   "outputs": [],
   "source": [
    "ka_subject_df = pd.DataFrame.from_dict(subject_info)"
   ]
  },
  {
   "cell_type": "code",
   "execution_count": 119,
   "metadata": {},
   "outputs": [],
   "source": [
    "ka_subject_df = ka_subject_df[[\"Subject\",\"Provider\",\"Image\",\"Courses\"]]"
   ]
  },
  {
   "cell_type": "code",
   "execution_count": 120,
   "metadata": {},
   "outputs": [
    {
     "data": {
      "text/html": [
       "<div>\n",
       "<style scoped>\n",
       "    .dataframe tbody tr th:only-of-type {\n",
       "        vertical-align: middle;\n",
       "    }\n",
       "\n",
       "    .dataframe tbody tr th {\n",
       "        vertical-align: top;\n",
       "    }\n",
       "\n",
       "    .dataframe thead th {\n",
       "        text-align: right;\n",
       "    }\n",
       "</style>\n",
       "<table border=\"1\" class=\"dataframe\">\n",
       "  <thead>\n",
       "    <tr style=\"text-align: right;\">\n",
       "      <th></th>\n",
       "      <th>Subject</th>\n",
       "      <th>Provider</th>\n",
       "      <th>Image</th>\n",
       "      <th>Courses</th>\n",
       "    </tr>\n",
       "  </thead>\n",
       "  <tbody>\n",
       "    <tr>\n",
       "      <th>0</th>\n",
       "      <td>statistics probability</td>\n",
       "      <td>Khan Academy</td>\n",
       "      <td>https://cdn.kastatic.org/genfiles/topic-icons/...</td>\n",
       "      <td>Analyzing categorical data;Displaying and comp...</td>\n",
       "    </tr>\n",
       "    <tr>\n",
       "      <th>1</th>\n",
       "      <td>probability</td>\n",
       "      <td>Khan Academy</td>\n",
       "      <td>https://cdn.kastatic.org/genfiles/topic-icons/...</td>\n",
       "      <td>Scatterplots;Data distributions;Two-way tables...</td>\n",
       "    </tr>\n",
       "    <tr>\n",
       "      <th>2</th>\n",
       "      <td>multivariable calculus</td>\n",
       "      <td>Khan Academy</td>\n",
       "      <td>https://cdn.kastatic.org/genfiles/topic-icons/...</td>\n",
       "      <td>Thinking about multivariable functions;Derivat...</td>\n",
       "    </tr>\n",
       "    <tr>\n",
       "      <th>3</th>\n",
       "      <td>differential equations</td>\n",
       "      <td>Khan Academy</td>\n",
       "      <td>https://cdn.kastatic.org/genfiles/topic-icons/...</td>\n",
       "      <td>First order differential equations;Second orde...</td>\n",
       "    </tr>\n",
       "    <tr>\n",
       "      <th>4</th>\n",
       "      <td>linear algebra</td>\n",
       "      <td>Khan Academy</td>\n",
       "      <td>https://cdn.kastatic.org/genfiles/topic-icons/...</td>\n",
       "      <td>Vectors and spaces;Matrix transformations;Alte...</td>\n",
       "    </tr>\n",
       "    <tr>\n",
       "      <th>5</th>\n",
       "      <td>physics</td>\n",
       "      <td>Khan Academy</td>\n",
       "      <td>https://cdn.kastatic.org/genfiles/topic-icons/...</td>\n",
       "      <td>One-dimensional motion;Two-dimensional motion;...</td>\n",
       "    </tr>\n",
       "    <tr>\n",
       "      <th>6</th>\n",
       "      <td>chemistry</td>\n",
       "      <td>Khan Academy</td>\n",
       "      <td>https://cdn.kastatic.org/genfiles/topic-icons/...</td>\n",
       "      <td>Atoms, compounds, and ions;Chemical reactions ...</td>\n",
       "    </tr>\n",
       "    <tr>\n",
       "      <th>7</th>\n",
       "      <td>organic chemistry</td>\n",
       "      <td>Khan Academy</td>\n",
       "      <td>https://cdn.kastatic.org/genfiles/topic-icons/...</td>\n",
       "      <td>Structure and bonding;Resonance and acid-base ...</td>\n",
       "    </tr>\n",
       "    <tr>\n",
       "      <th>8</th>\n",
       "      <td>biology</td>\n",
       "      <td>Khan Academy</td>\n",
       "      <td>https://cdn.kastatic.org/genfiles/topic-icons/...</td>\n",
       "      <td>Intro to biology;Chemistry of life;Water, acid...</td>\n",
       "    </tr>\n",
       "    <tr>\n",
       "      <th>9</th>\n",
       "      <td>high school biology</td>\n",
       "      <td>Khan Academy</td>\n",
       "      <td>https://cdn.kastatic.org/genfiles/topic-icons/...</td>\n",
       "      <td>Biology foundations;Cells;Cellular transport;E...</td>\n",
       "    </tr>\n",
       "    <tr>\n",
       "      <th>10</th>\n",
       "      <td>cosmology and astronomy</td>\n",
       "      <td>Khan Academy</td>\n",
       "      <td>https://cdn.kastatic.org/genfiles/topic-icons/...</td>\n",
       "      <td>Scale of the universe;Stars, black holes and g...</td>\n",
       "    </tr>\n",
       "    <tr>\n",
       "      <th>11</th>\n",
       "      <td>electrical engineering</td>\n",
       "      <td>Khan Academy</td>\n",
       "      <td>https://cdn.kastatic.org/genfiles/topic-icons/...</td>\n",
       "      <td>Introduction to electrical engineering;Circuit...</td>\n",
       "    </tr>\n",
       "    <tr>\n",
       "      <th>12</th>\n",
       "      <td>macroeconomics</td>\n",
       "      <td>Khan Academy</td>\n",
       "      <td>https://cdn.kastatic.org/genfiles/topic-icons/...</td>\n",
       "      <td>GDP: Measuring national income;Inflation - mea...</td>\n",
       "    </tr>\n",
       "    <tr>\n",
       "      <th>13</th>\n",
       "      <td>microeconomics</td>\n",
       "      <td>Khan Academy</td>\n",
       "      <td>https://cdn.kastatic.org/genfiles/topic-icons/...</td>\n",
       "      <td>Supply, demand, and market equilibrium;Elastic...</td>\n",
       "    </tr>\n",
       "    <tr>\n",
       "      <th>14</th>\n",
       "      <td>core finance</td>\n",
       "      <td>Khan Academy</td>\n",
       "      <td>https://cdn.kastatic.org/genfiles/topic-icons/...</td>\n",
       "      <td>Interest and debt;Housing;Inflation;Taxes;Acco...</td>\n",
       "    </tr>\n",
       "    <tr>\n",
       "      <th>15</th>\n",
       "      <td>us history</td>\n",
       "      <td>Khan Academy</td>\n",
       "      <td>https://cdn.kastatic.org/genfiles/topic-icons/...</td>\n",
       "      <td>The historian's toolkit;Worlds collide (1491-1...</td>\n",
       "    </tr>\n",
       "    <tr>\n",
       "      <th>16</th>\n",
       "      <td>world history</td>\n",
       "      <td>Khan Academy</td>\n",
       "      <td>https://cdn.kastatic.org/genfiles/topic-icons/...</td>\n",
       "      <td>Beginnings - 600 BCE;600 BCE - 600 CE Second-W...</td>\n",
       "    </tr>\n",
       "    <tr>\n",
       "      <th>17</th>\n",
       "      <td>art history</td>\n",
       "      <td>Khan Academy</td>\n",
       "      <td>https://cdn.kastatic.org/genfiles/topic-icons/...</td>\n",
       "      <td>Special topics in art history;Art history basi...</td>\n",
       "    </tr>\n",
       "    <tr>\n",
       "      <th>18</th>\n",
       "      <td>grammar</td>\n",
       "      <td>Khan Academy</td>\n",
       "      <td>https://cdn.kastatic.org/genfiles/topic-icons/...</td>\n",
       "      <td>Introduction to grammar;Parts of speech: the n...</td>\n",
       "    </tr>\n",
       "    <tr>\n",
       "      <th>19</th>\n",
       "      <td>music</td>\n",
       "      <td>Khan Academy</td>\n",
       "      <td>https://cdn.kastatic.org/genfiles/topic-icons/...</td>\n",
       "      <td>Music basics;Masterpieces old and new;Instrume...</td>\n",
       "    </tr>\n",
       "    <tr>\n",
       "      <th>20</th>\n",
       "      <td>computer programming</td>\n",
       "      <td>Khan Academy</td>\n",
       "      <td>https://cdn.kastatic.org/genfiles/topic-icons/...</td>\n",
       "      <td>Intro to JS: Drawing &amp; Animation;Intro to HTML...</td>\n",
       "    </tr>\n",
       "    <tr>\n",
       "      <th>21</th>\n",
       "      <td>computer science</td>\n",
       "      <td>Khan Academy</td>\n",
       "      <td>https://cdn.kastatic.org/genfiles/topic-icons/...</td>\n",
       "      <td>Algorithms;Journey into cryptography;Journey i...</td>\n",
       "    </tr>\n",
       "  </tbody>\n",
       "</table>\n",
       "</div>"
      ],
      "text/plain": [
       "                    Subject      Provider  \\\n",
       "0    statistics probability  Khan Academy   \n",
       "1               probability  Khan Academy   \n",
       "2    multivariable calculus  Khan Academy   \n",
       "3    differential equations  Khan Academy   \n",
       "4            linear algebra  Khan Academy   \n",
       "5                   physics  Khan Academy   \n",
       "6                 chemistry  Khan Academy   \n",
       "7         organic chemistry  Khan Academy   \n",
       "8                   biology  Khan Academy   \n",
       "9       high school biology  Khan Academy   \n",
       "10  cosmology and astronomy  Khan Academy   \n",
       "11   electrical engineering  Khan Academy   \n",
       "12           macroeconomics  Khan Academy   \n",
       "13           microeconomics  Khan Academy   \n",
       "14             core finance  Khan Academy   \n",
       "15               us history  Khan Academy   \n",
       "16            world history  Khan Academy   \n",
       "17              art history  Khan Academy   \n",
       "18                  grammar  Khan Academy   \n",
       "19                    music  Khan Academy   \n",
       "20     computer programming  Khan Academy   \n",
       "21         computer science  Khan Academy   \n",
       "\n",
       "                                                Image  \\\n",
       "0   https://cdn.kastatic.org/genfiles/topic-icons/...   \n",
       "1   https://cdn.kastatic.org/genfiles/topic-icons/...   \n",
       "2   https://cdn.kastatic.org/genfiles/topic-icons/...   \n",
       "3   https://cdn.kastatic.org/genfiles/topic-icons/...   \n",
       "4   https://cdn.kastatic.org/genfiles/topic-icons/...   \n",
       "5   https://cdn.kastatic.org/genfiles/topic-icons/...   \n",
       "6   https://cdn.kastatic.org/genfiles/topic-icons/...   \n",
       "7   https://cdn.kastatic.org/genfiles/topic-icons/...   \n",
       "8   https://cdn.kastatic.org/genfiles/topic-icons/...   \n",
       "9   https://cdn.kastatic.org/genfiles/topic-icons/...   \n",
       "10  https://cdn.kastatic.org/genfiles/topic-icons/...   \n",
       "11  https://cdn.kastatic.org/genfiles/topic-icons/...   \n",
       "12  https://cdn.kastatic.org/genfiles/topic-icons/...   \n",
       "13  https://cdn.kastatic.org/genfiles/topic-icons/...   \n",
       "14  https://cdn.kastatic.org/genfiles/topic-icons/...   \n",
       "15  https://cdn.kastatic.org/genfiles/topic-icons/...   \n",
       "16  https://cdn.kastatic.org/genfiles/topic-icons/...   \n",
       "17  https://cdn.kastatic.org/genfiles/topic-icons/...   \n",
       "18  https://cdn.kastatic.org/genfiles/topic-icons/...   \n",
       "19  https://cdn.kastatic.org/genfiles/topic-icons/...   \n",
       "20  https://cdn.kastatic.org/genfiles/topic-icons/...   \n",
       "21  https://cdn.kastatic.org/genfiles/topic-icons/...   \n",
       "\n",
       "                                              Courses  \n",
       "0   Analyzing categorical data;Displaying and comp...  \n",
       "1   Scatterplots;Data distributions;Two-way tables...  \n",
       "2   Thinking about multivariable functions;Derivat...  \n",
       "3   First order differential equations;Second orde...  \n",
       "4   Vectors and spaces;Matrix transformations;Alte...  \n",
       "5   One-dimensional motion;Two-dimensional motion;...  \n",
       "6   Atoms, compounds, and ions;Chemical reactions ...  \n",
       "7   Structure and bonding;Resonance and acid-base ...  \n",
       "8   Intro to biology;Chemistry of life;Water, acid...  \n",
       "9   Biology foundations;Cells;Cellular transport;E...  \n",
       "10  Scale of the universe;Stars, black holes and g...  \n",
       "11  Introduction to electrical engineering;Circuit...  \n",
       "12  GDP: Measuring national income;Inflation - mea...  \n",
       "13  Supply, demand, and market equilibrium;Elastic...  \n",
       "14  Interest and debt;Housing;Inflation;Taxes;Acco...  \n",
       "15  The historian's toolkit;Worlds collide (1491-1...  \n",
       "16  Beginnings - 600 BCE;600 BCE - 600 CE Second-W...  \n",
       "17  Special topics in art history;Art history basi...  \n",
       "18  Introduction to grammar;Parts of speech: the n...  \n",
       "19  Music basics;Masterpieces old and new;Instrume...  \n",
       "20  Intro to JS: Drawing & Animation;Intro to HTML...  \n",
       "21  Algorithms;Journey into cryptography;Journey i...  "
      ]
     },
     "execution_count": 120,
     "metadata": {},
     "output_type": "execute_result"
    }
   ],
   "source": [
    "ka_subject_df"
   ]
  },
  {
   "cell_type": "code",
   "execution_count": 185,
   "metadata": {},
   "outputs": [],
   "source": [
    "ka_subject_df.to_csv(\"ka_subjects.csv\")"
   ]
  },
  {
   "cell_type": "markdown",
   "metadata": {},
   "source": [
    "### Wait, let's double check Udemy Data"
   ]
  },
  {
   "cell_type": "code",
   "execution_count": 123,
   "metadata": {},
   "outputs": [],
   "source": [
    "df_udemy = pd.read_csv(\"udemy_courses.csv\",encoding = \"ISO-8859-1\")"
   ]
  },
  {
   "cell_type": "code",
   "execution_count": 125,
   "metadata": {},
   "outputs": [
    {
     "data": {
      "text/plain": [
       "2557"
      ]
     },
     "execution_count": 125,
     "metadata": {},
     "output_type": "execute_result"
    }
   ],
   "source": [
    "len(df_udemy)"
   ]
  },
  {
   "cell_type": "code",
   "execution_count": 126,
   "metadata": {},
   "outputs": [
    {
     "data": {
      "text/plain": [
       "2557"
      ]
     },
     "execution_count": 126,
     "metadata": {},
     "output_type": "execute_result"
    }
   ],
   "source": [
    "len(df_udemy.drop_duplicates(subset = [\"Course\"]))"
   ]
  },
  {
   "cell_type": "markdown",
   "metadata": {},
   "source": [
    "#### Ok good, let's extract its subject data as well"
   ]
  },
  {
   "cell_type": "code",
   "execution_count": 177,
   "metadata": {},
   "outputs": [],
   "source": [
    "u_subjects = {}\n",
    "udemy_subjects = {\n",
    "    \"Subject\": [],\n",
    "    \"Provider\": [],\n",
    "    \"Image\": [],\n",
    "    \"Courses\": []\n",
    "}"
   ]
  },
  {
   "cell_type": "code",
   "execution_count": 178,
   "metadata": {},
   "outputs": [
    {
     "data": {
      "text/plain": [
       "{}"
      ]
     },
     "execution_count": 178,
     "metadata": {},
     "output_type": "execute_result"
    }
   ],
   "source": [
    "u_subjects"
   ]
  },
  {
   "cell_type": "code",
   "execution_count": 179,
   "metadata": {},
   "outputs": [],
   "source": [
    "for index, row in df_udemy.iterrows():\n",
    "    if row[\"PrimarySubcategory\"] not in u_subjects:\n",
    "        u_subjects[row[\"PrimarySubcategory\"]] = row[\"PrimaryCategory\"]"
   ]
  },
  {
   "cell_type": "code",
   "execution_count": 180,
   "metadata": {},
   "outputs": [],
   "source": [
    "for subject in u_subjects:\n",
    "    udemy_subjects[\"Subject\"].append(subject)\n",
    "    udemy_subjects[\"Provider\"].append(\"Udemy\")\n",
    "    udemy_subjects[\"Courses\"].append(';'.join([course for course in df_udemy[df_udemy.PrimarySubcategory == subject].PrimarySubcategory])) # collect all courses"
   ]
  },
  {
   "cell_type": "code",
   "execution_count": 181,
   "metadata": {
    "scrolled": true
   },
   "outputs": [
    {
     "name": "stdout",
     "output_type": "stream",
     "text": [
      "118\n",
      "118\n",
      "0\n",
      "118\n"
     ]
    }
   ],
   "source": [
    "for key in udemy_subjects:\n",
    "    print(len(udemy_subjects[key]))"
   ]
  },
  {
   "cell_type": "code",
   "execution_count": 182,
   "metadata": {},
   "outputs": [],
   "source": [
    "# just need to extract images from website\n",
    "headers = {'User-Agent': 'Mozilla/5.0 (Macintosh; Intel Mac OS X 10_10_1) AppleWebKit/537.36 (KHTML, like Gecko) Chrome/39.0.2171.95 Safari/537.36'}\n",
    "\n",
    "for subject in udemy_subjects[\"Subject\"]:\n",
    "    primary = u_subjects[subject].replace(\"&\",\"and\").replace(\" \",\"-\")\n",
    "    subject = subject.replace(\"&\",\"and\").replace(\" \",\"-\")\n",
    "    url = \"https://www.udemy.com/courses/\" + primary + \"/\" + subject + \"/\"\n",
    "    # TEMPORARY\n",
    "    udemy_subjects[\"Image\"].append(url)\n",
    "    "
   ]
  },
  {
   "cell_type": "code",
   "execution_count": 183,
   "metadata": {},
   "outputs": [
    {
     "name": "stdout",
     "output_type": "stream",
     "text": [
      "118\n",
      "118\n",
      "118\n",
      "118\n"
     ]
    }
   ],
   "source": [
    "for key in udemy_subjects:\n",
    "    print(len(udemy_subjects[key]))"
   ]
  },
  {
   "cell_type": "code",
   "execution_count": 186,
   "metadata": {},
   "outputs": [],
   "source": [
    "df_udemy_subjects = pd.DataFrame.from_dict(udemy_subjects)"
   ]
  },
  {
   "cell_type": "code",
   "execution_count": 188,
   "metadata": {},
   "outputs": [],
   "source": [
    "df_udemy_subjects = df_udemy_subjects[[\"Subject\",\"Provider\",\"Image\",\"Courses\"]]"
   ]
  },
  {
   "cell_type": "code",
   "execution_count": null,
   "metadata": {},
   "outputs": [],
   "source": [
    "df_udemy_subjects = df_udemy_subjects.to"
   ]
  }
 ],
 "metadata": {
  "kernelspec": {
   "display_name": "Python 3",
   "language": "python",
   "name": "python3"
  },
  "language_info": {
   "codemirror_mode": {
    "name": "ipython",
    "version": 3
   },
   "file_extension": ".py",
   "mimetype": "text/x-python",
   "name": "python",
   "nbconvert_exporter": "python",
   "pygments_lexer": "ipython3",
   "version": "3.6.4"
  }
 },
 "nbformat": 4,
 "nbformat_minor": 2
}
