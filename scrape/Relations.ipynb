{
 "cells": [
  {
   "cell_type": "code",
   "execution_count": 53,
   "metadata": {},
   "outputs": [],
   "source": [
    "import pandas as pd"
   ]
  },
  {
   "cell_type": "code",
   "execution_count": 54,
   "metadata": {},
   "outputs": [],
   "source": [
    "df_courses = pd.read_csv(\"courses.csv\",encoding = \"ISO-8859-1\")"
   ]
  },
  {
   "cell_type": "code",
   "execution_count": 55,
   "metadata": {},
   "outputs": [],
   "source": [
    "df_courses = df_courses[df_courses.columns[1:]]"
   ]
  },
  {
   "cell_type": "code",
   "execution_count": 103,
   "metadata": {},
   "outputs": [],
   "source": [
    "df_courses[\"Course\"] = df_courses[\"Course\"].apply(lambda x: x.encode(\"utf8\").decode(\"utf8\"))"
   ]
  },
  {
   "cell_type": "code",
   "execution_count": 112,
   "metadata": {},
   "outputs": [],
   "source": [
    "df_subjects = pd.read_csv(\"subjects.csv\",encoding = \"ISO-8859-1\")\n",
    "df_subjects = df_subjects[df_subjects.columns[1:]]"
   ]
  },
  {
   "cell_type": "code",
   "execution_count": 57,
   "metadata": {},
   "outputs": [],
   "source": [
    "df_jobs = pd.read_csv(\"authentic_jobs.csv\", encoding = \"ISO-8859-1\") # temp\n",
    "df_jobs = df_jobs[df_jobs.columns[1:]]"
   ]
  },
  {
   "cell_type": "markdown",
   "metadata": {},
   "source": [
    "### Add related courses to jobs"
   ]
  },
  {
   "cell_type": "code",
   "execution_count": 58,
   "metadata": {
    "scrolled": true
   },
   "outputs": [],
   "source": [
    "def get_courses(x):\n",
    "    subjects = x.split(\",\")\n",
    "    courses = df_courses[df_courses.Subject.isin(subjects)].index\n",
    "    return ','.join(str(idx) for idx in courses)"
   ]
  },
  {
   "cell_type": "code",
   "execution_count": 59,
   "metadata": {},
   "outputs": [],
   "source": [
    "df_jobs[\"courses\"] = df_jobs[\"subjects\"].apply(lambda x: get_courses(x))"
   ]
  },
  {
   "cell_type": "code",
   "execution_count": 123,
   "metadata": {},
   "outputs": [
    {
     "data": {
      "text/html": [
       "<div>\n",
       "<style scoped>\n",
       "    .dataframe tbody tr th:only-of-type {\n",
       "        vertical-align: middle;\n",
       "    }\n",
       "\n",
       "    .dataframe tbody tr th {\n",
       "        vertical-align: top;\n",
       "    }\n",
       "\n",
       "    .dataframe thead th {\n",
       "        text-align: right;\n",
       "    }\n",
       "</style>\n",
       "<table border=\"1\" class=\"dataframe\">\n",
       "  <thead>\n",
       "    <tr style=\"text-align: right;\">\n",
       "      <th></th>\n",
       "      <th>name</th>\n",
       "      <th>company</th>\n",
       "      <th>desc</th>\n",
       "      <th>image</th>\n",
       "      <th>link</th>\n",
       "      <th>provider</th>\n",
       "      <th>subjects</th>\n",
       "      <th>courses</th>\n",
       "    </tr>\n",
       "  </thead>\n",
       "  <tbody>\n",
       "    <tr>\n",
       "      <th>0</th>\n",
       "      <td>Account Executive_30377</td>\n",
       "      <td>FleetSmith</td>\n",
       "      <td>&lt;p&gt;&lt;p style=\"color: #282c35; font-family: prox...</td>\n",
       "      <td>https://d2fcz5no062gar.cloudfront.net/assets/i...</td>\n",
       "      <td>https://authenticjobs.com/apply/30377</td>\n",
       "      <td>Authentic Jobs</td>\n",
       "      <td>Network &amp; Security, Management, Motivation, Re...</td>\n",
       "      <td>242,290,314,315,327,346,350,375,428,429,441,44...</td>\n",
       "    </tr>\n",
       "    <tr>\n",
       "      <th>1</th>\n",
       "      <td>Android Developer_30370</td>\n",
       "      <td>eTecc / Interactive</td>\n",
       "      <td>&lt;p&gt;&lt;p&gt;eTecc / Interactive is a nimble design a...</td>\n",
       "      <td>https://d2fcz5no062gar.cloudfront.nethttps://a...</td>\n",
       "      <td>https://authenticjobs.com/apply/30370</td>\n",
       "      <td>Authentic Jobs</td>\n",
       "      <td>Other, English</td>\n",
       "      <td>218,317,366,401,456,488,525,549,596,598,661,67...</td>\n",
       "    </tr>\n",
       "    <tr>\n",
       "      <th>2</th>\n",
       "      <td>Associate Director of User Experience_30396</td>\n",
       "      <td>Manifest LLC</td>\n",
       "      <td>&lt;p&gt;&lt;p&gt;&lt;!-- [if gte mso 9]&gt;&lt;xml&gt;\\n &lt;o:OfficeDoc...</td>\n",
       "      <td>https://d2fcz5no062gar.cloudfront.net/assets/i...</td>\n",
       "      <td>https://careers-manifestllc.icims.com/jobs/218...</td>\n",
       "      <td>Authentic Jobs</td>\n",
       "      <td>Other, Data &amp; Analytics, Mobile Apps, Math &amp; S...</td>\n",
       "      <td>218,317,366,401,456,488,525,549,596,598,661,67...</td>\n",
       "    </tr>\n",
       "    <tr>\n",
       "      <th>3</th>\n",
       "      <td>Backend Web Developer (Laravel)_30381</td>\n",
       "      <td>ScaleLab</td>\n",
       "      <td>&lt;p&gt;&lt;p style=\"line-height: 1.38; margin-top: 0p...</td>\n",
       "      <td>https://d2fcz5no062gar.cloudfront.nethttps://a...</td>\n",
       "      <td>https://authenticjobs.com/apply/30381</td>\n",
       "      <td>Authentic Jobs</td>\n",
       "      <td>Data &amp; Analytics, Network &amp; Security, Influenc...</td>\n",
       "      <td>226,232,239,244,245,257,270,275,276,278,283,28...</td>\n",
       "    </tr>\n",
       "    <tr>\n",
       "      <th>4</th>\n",
       "      <td>Blockchain company looking for Front-end Web U...</td>\n",
       "      <td>XYO Network</td>\n",
       "      <td>&lt;p&gt;&lt;h2&gt;Blockchain company looking for Front-en...</td>\n",
       "      <td>https://d2fcz5no062gar.cloudfront.nethttps://a...</td>\n",
       "      <td>https://authenticjobs.com/apply/30346</td>\n",
       "      <td>Authentic Jobs</td>\n",
       "      <td>Network &amp; Security</td>\n",
       "      <td>242,290,314,315,327,346,350,375,428,429,441,44...</td>\n",
       "    </tr>\n",
       "  </tbody>\n",
       "</table>\n",
       "</div>"
      ],
      "text/plain": [
       "                                                name              company  \\\n",
       "0                            Account Executive_30377           FleetSmith   \n",
       "1                            Android Developer_30370  eTecc / Interactive   \n",
       "2        Associate Director of User Experience_30396         Manifest LLC   \n",
       "3              Backend Web Developer (Laravel)_30381             ScaleLab   \n",
       "4  Blockchain company looking for Front-end Web U...          XYO Network   \n",
       "\n",
       "                                                desc  \\\n",
       "0  <p><p style=\"color: #282c35; font-family: prox...   \n",
       "1  <p><p>eTecc / Interactive is a nimble design a...   \n",
       "2  <p><p><!-- [if gte mso 9]><xml>\\n <o:OfficeDoc...   \n",
       "3  <p><p style=\"line-height: 1.38; margin-top: 0p...   \n",
       "4  <p><h2>Blockchain company looking for Front-en...   \n",
       "\n",
       "                                               image  \\\n",
       "0  https://d2fcz5no062gar.cloudfront.net/assets/i...   \n",
       "1  https://d2fcz5no062gar.cloudfront.nethttps://a...   \n",
       "2  https://d2fcz5no062gar.cloudfront.net/assets/i...   \n",
       "3  https://d2fcz5no062gar.cloudfront.nethttps://a...   \n",
       "4  https://d2fcz5no062gar.cloudfront.nethttps://a...   \n",
       "\n",
       "                                                link        provider  \\\n",
       "0              https://authenticjobs.com/apply/30377  Authentic Jobs   \n",
       "1              https://authenticjobs.com/apply/30370  Authentic Jobs   \n",
       "2  https://careers-manifestllc.icims.com/jobs/218...  Authentic Jobs   \n",
       "3              https://authenticjobs.com/apply/30381  Authentic Jobs   \n",
       "4              https://authenticjobs.com/apply/30346  Authentic Jobs   \n",
       "\n",
       "                                            subjects  \\\n",
       "0  Network & Security, Management, Motivation, Re...   \n",
       "1                                     Other, English   \n",
       "2  Other, Data & Analytics, Mobile Apps, Math & S...   \n",
       "3  Data & Analytics, Network & Security, Influenc...   \n",
       "4                                 Network & Security   \n",
       "\n",
       "                                             courses  \n",
       "0  242,290,314,315,327,346,350,375,428,429,441,44...  \n",
       "1  218,317,366,401,456,488,525,549,596,598,661,67...  \n",
       "2  218,317,366,401,456,488,525,549,596,598,661,67...  \n",
       "3  226,232,239,244,245,257,270,275,276,278,283,28...  \n",
       "4  242,290,314,315,327,346,350,375,428,429,441,44...  "
      ]
     },
     "execution_count": 123,
     "metadata": {},
     "output_type": "execute_result"
    }
   ],
   "source": [
    "df_jobs.head()"
   ]
  },
  {
   "cell_type": "code",
   "execution_count": 145,
   "metadata": {},
   "outputs": [],
   "source": [
    "def get_subject_ids(x):\n",
    "    subjects = x.split(\", \")\n",
    "    ids = df_subjects[df_subjects[\"Subject\"].isin(subjects)].index\n",
    "    return ','.join(str(idx) for idx in ids)"
   ]
  },
  {
   "cell_type": "code",
   "execution_count": 146,
   "metadata": {},
   "outputs": [],
   "source": [
    "df_jobs[\"subjects_ids\"] = df_jobs[\"subjects\"].apply(lambda x: get_subject_ids(x))"
   ]
  },
  {
   "cell_type": "code",
   "execution_count": null,
   "metadata": {},
   "outputs": [],
   "source": []
  },
  {
   "cell_type": "code",
   "execution_count": 148,
   "metadata": {},
   "outputs": [],
   "source": [
    "df_jobs.to_csv(\"authentic_jobs.csv\")"
   ]
  },
  {
   "cell_type": "markdown",
   "metadata": {},
   "source": [
    "### Add related jobs to subjects"
   ]
  },
  {
   "cell_type": "code",
   "execution_count": 113,
   "metadata": {},
   "outputs": [],
   "source": [
    "def get_jobs(x):\n",
    "    jobs = df_jobs[df_jobs.subjects.str.contains(x)].index\n",
    "    return ','.join(str(idx) for idx in jobs)"
   ]
  },
  {
   "cell_type": "code",
   "execution_count": 114,
   "metadata": {},
   "outputs": [],
   "source": [
    "df_subjects[\"Jobs\"] = df_subjects[\"Subject\"].apply(lambda x: get_jobs(x))"
   ]
  },
  {
   "cell_type": "code",
   "execution_count": 115,
   "metadata": {},
   "outputs": [
    {
     "data": {
      "text/plain": [
       "'Web Development w/ GoogleÃ\\x82Â\\x92s Go (golang) Programming Language'"
      ]
     },
     "execution_count": 115,
     "metadata": {},
     "output_type": "execute_result"
    }
   ],
   "source": [
    "df_courses.Course[490]"
   ]
  },
  {
   "cell_type": "code",
   "execution_count": 116,
   "metadata": {},
   "outputs": [],
   "source": [
    "df_subjects.to_csv(\"subjects.csv\")"
   ]
  },
  {
   "cell_type": "code",
   "execution_count": 111,
   "metadata": {},
   "outputs": [
    {
     "data": {
      "text/plain": [
       "'Web Development w/ GoogleÃ\\x82Â\\x92s Go (golang) Programming Language'"
      ]
     },
     "execution_count": 111,
     "metadata": {},
     "output_type": "execute_result"
    }
   ],
   "source": [
    "df_courses.Course[490].encode(\"utf8\").decode(\"utf8\")"
   ]
  },
  {
   "cell_type": "code",
   "execution_count": 122,
   "metadata": {},
   "outputs": [
    {
     "data": {
      "text/html": [
       "<div>\n",
       "<style scoped>\n",
       "    .dataframe tbody tr th:only-of-type {\n",
       "        vertical-align: middle;\n",
       "    }\n",
       "\n",
       "    .dataframe tbody tr th {\n",
       "        vertical-align: top;\n",
       "    }\n",
       "\n",
       "    .dataframe thead th {\n",
       "        text-align: right;\n",
       "    }\n",
       "</style>\n",
       "<table border=\"1\" class=\"dataframe\">\n",
       "  <thead>\n",
       "    <tr style=\"text-align: right;\">\n",
       "      <th></th>\n",
       "      <th>Subject</th>\n",
       "      <th>Provider</th>\n",
       "      <th>Image</th>\n",
       "      <th>Courses</th>\n",
       "      <th>Jobs</th>\n",
       "    </tr>\n",
       "  </thead>\n",
       "  <tbody>\n",
       "    <tr>\n",
       "      <th>0</th>\n",
       "      <td>Statistics Probability</td>\n",
       "      <td>Khan Academy</td>\n",
       "      <td>https://cdn.kastatic.org/genfiles/topic-icons/...</td>\n",
       "      <td>0,1,2,3,4,5,6,7,8,9,10,11,12,13,14,15</td>\n",
       "      <td></td>\n",
       "    </tr>\n",
       "    <tr>\n",
       "      <th>1</th>\n",
       "      <td>Probability</td>\n",
       "      <td>Khan Academy</td>\n",
       "      <td>https://cdn.kastatic.org/genfiles/topic-icons/...</td>\n",
       "      <td>16,17,18,21,22</td>\n",
       "      <td></td>\n",
       "    </tr>\n",
       "    <tr>\n",
       "      <th>2</th>\n",
       "      <td>Multivariable Calculus</td>\n",
       "      <td>Khan Academy</td>\n",
       "      <td>https://cdn.kastatic.org/genfiles/topic-icons/...</td>\n",
       "      <td>23,24,25,26,27</td>\n",
       "      <td></td>\n",
       "    </tr>\n",
       "    <tr>\n",
       "      <th>3</th>\n",
       "      <td>Differential Equations</td>\n",
       "      <td>Khan Academy</td>\n",
       "      <td>https://cdn.kastatic.org/genfiles/topic-icons/...</td>\n",
       "      <td>28,29,30</td>\n",
       "      <td></td>\n",
       "    </tr>\n",
       "    <tr>\n",
       "      <th>4</th>\n",
       "      <td>Linear Algebra</td>\n",
       "      <td>Khan Academy</td>\n",
       "      <td>https://cdn.kastatic.org/genfiles/topic-icons/...</td>\n",
       "      <td>31,32,33</td>\n",
       "      <td></td>\n",
       "    </tr>\n",
       "  </tbody>\n",
       "</table>\n",
       "</div>"
      ],
      "text/plain": [
       "                  Subject      Provider  \\\n",
       "0  Statistics Probability  Khan Academy   \n",
       "1             Probability  Khan Academy   \n",
       "2  Multivariable Calculus  Khan Academy   \n",
       "3  Differential Equations  Khan Academy   \n",
       "4          Linear Algebra  Khan Academy   \n",
       "\n",
       "                                               Image  \\\n",
       "0  https://cdn.kastatic.org/genfiles/topic-icons/...   \n",
       "1  https://cdn.kastatic.org/genfiles/topic-icons/...   \n",
       "2  https://cdn.kastatic.org/genfiles/topic-icons/...   \n",
       "3  https://cdn.kastatic.org/genfiles/topic-icons/...   \n",
       "4  https://cdn.kastatic.org/genfiles/topic-icons/...   \n",
       "\n",
       "                                 Courses Jobs  \n",
       "0  0,1,2,3,4,5,6,7,8,9,10,11,12,13,14,15       \n",
       "1                         16,17,18,21,22       \n",
       "2                         23,24,25,26,27       \n",
       "3                               28,29,30       \n",
       "4                               31,32,33       "
      ]
     },
     "execution_count": 122,
     "metadata": {},
     "output_type": "execute_result"
    }
   ],
   "source": [
    "df_subjects.head()"
   ]
  },
  {
   "cell_type": "markdown",
   "metadata": {},
   "source": [
    "### Add related jobs to courses"
   ]
  },
  {
   "cell_type": "code",
   "execution_count": 120,
   "metadata": {},
   "outputs": [],
   "source": [
    "df_courses[\"Jobs\"] = df_courses[\"Subject\"].apply(lambda x: get_jobs(x))"
   ]
  },
  {
   "cell_type": "code",
   "execution_count": 44,
   "metadata": {},
   "outputs": [],
   "source": [
    "df_courses.to_csv(\"courses.csv\")"
   ]
  },
  {
   "cell_type": "code",
   "execution_count": 121,
   "metadata": {},
   "outputs": [
    {
     "data": {
      "text/html": [
       "<div>\n",
       "<style scoped>\n",
       "    .dataframe tbody tr th:only-of-type {\n",
       "        vertical-align: middle;\n",
       "    }\n",
       "\n",
       "    .dataframe tbody tr th {\n",
       "        vertical-align: top;\n",
       "    }\n",
       "\n",
       "    .dataframe thead th {\n",
       "        text-align: right;\n",
       "    }\n",
       "</style>\n",
       "<table border=\"1\" class=\"dataframe\">\n",
       "  <thead>\n",
       "    <tr style=\"text-align: right;\">\n",
       "      <th></th>\n",
       "      <th>Course</th>\n",
       "      <th>Description</th>\n",
       "      <th>Image</th>\n",
       "      <th>Instructor</th>\n",
       "      <th>Link</th>\n",
       "      <th>Price</th>\n",
       "      <th>Subject</th>\n",
       "      <th>Provider</th>\n",
       "      <th>Jobs</th>\n",
       "    </tr>\n",
       "  </thead>\n",
       "  <tbody>\n",
       "    <tr>\n",
       "      <th>0</th>\n",
       "      <td>Analyzing categorical data</td>\n",
       "      <td>This unit covers methods for dealing with data...</td>\n",
       "      <td>https://cdn.kastatic.org/genfiles/topic-icons/...</td>\n",
       "      <td>None</td>\n",
       "      <td>https://www.khanacademy.org/math/statistics-pr...</td>\n",
       "      <td>Free</td>\n",
       "      <td>Statistics Probability</td>\n",
       "      <td>Khan Academy</td>\n",
       "      <td></td>\n",
       "    </tr>\n",
       "    <tr>\n",
       "      <th>1</th>\n",
       "      <td>Displaying and comparing quantitative data</td>\n",
       "      <td>This unit covers some basic methods for graphi...</td>\n",
       "      <td>https://cdn.kastatic.org/genfiles/topic-icons/...</td>\n",
       "      <td>None</td>\n",
       "      <td>https://www.khanacademy.org/math/statistics-pr...</td>\n",
       "      <td>Free</td>\n",
       "      <td>Statistics Probability</td>\n",
       "      <td>Khan Academy</td>\n",
       "      <td></td>\n",
       "    </tr>\n",
       "    <tr>\n",
       "      <th>2</th>\n",
       "      <td>Summarizing quantitative data</td>\n",
       "      <td>This unit covers common measures of center lik...</td>\n",
       "      <td>https://cdn.kastatic.org/genfiles/topic-icons/...</td>\n",
       "      <td>None</td>\n",
       "      <td>https://www.khanacademy.org/math/statistics-pr...</td>\n",
       "      <td>Free</td>\n",
       "      <td>Statistics Probability</td>\n",
       "      <td>Khan Academy</td>\n",
       "      <td></td>\n",
       "    </tr>\n",
       "    <tr>\n",
       "      <th>3</th>\n",
       "      <td>Modeling data distributions</td>\n",
       "      <td>This unit takes our understanding of distribut...</td>\n",
       "      <td>https://cdn.kastatic.org/genfiles/topic-icons/...</td>\n",
       "      <td>None</td>\n",
       "      <td>https://www.khanacademy.org/math/statistics-pr...</td>\n",
       "      <td>Free</td>\n",
       "      <td>Statistics Probability</td>\n",
       "      <td>Khan Academy</td>\n",
       "      <td></td>\n",
       "    </tr>\n",
       "    <tr>\n",
       "      <th>4</th>\n",
       "      <td>Exploring bivariate numerical data</td>\n",
       "      <td>We use scatter plots to explore the relationsh...</td>\n",
       "      <td>https://cdn.kastatic.org/genfiles/topic-icons/...</td>\n",
       "      <td>None</td>\n",
       "      <td>https://www.khanacademy.org/math/statistics-pr...</td>\n",
       "      <td>Free</td>\n",
       "      <td>Statistics Probability</td>\n",
       "      <td>Khan Academy</td>\n",
       "      <td></td>\n",
       "    </tr>\n",
       "  </tbody>\n",
       "</table>\n",
       "</div>"
      ],
      "text/plain": [
       "                                       Course  \\\n",
       "0                  Analyzing categorical data   \n",
       "1  Displaying and comparing quantitative data   \n",
       "2               Summarizing quantitative data   \n",
       "3                 Modeling data distributions   \n",
       "4          Exploring bivariate numerical data   \n",
       "\n",
       "                                         Description  \\\n",
       "0  This unit covers methods for dealing with data...   \n",
       "1  This unit covers some basic methods for graphi...   \n",
       "2  This unit covers common measures of center lik...   \n",
       "3  This unit takes our understanding of distribut...   \n",
       "4  We use scatter plots to explore the relationsh...   \n",
       "\n",
       "                                               Image Instructor  \\\n",
       "0  https://cdn.kastatic.org/genfiles/topic-icons/...       None   \n",
       "1  https://cdn.kastatic.org/genfiles/topic-icons/...       None   \n",
       "2  https://cdn.kastatic.org/genfiles/topic-icons/...       None   \n",
       "3  https://cdn.kastatic.org/genfiles/topic-icons/...       None   \n",
       "4  https://cdn.kastatic.org/genfiles/topic-icons/...       None   \n",
       "\n",
       "                                                Link Price  \\\n",
       "0  https://www.khanacademy.org/math/statistics-pr...  Free   \n",
       "1  https://www.khanacademy.org/math/statistics-pr...  Free   \n",
       "2  https://www.khanacademy.org/math/statistics-pr...  Free   \n",
       "3  https://www.khanacademy.org/math/statistics-pr...  Free   \n",
       "4  https://www.khanacademy.org/math/statistics-pr...  Free   \n",
       "\n",
       "                  Subject      Provider Jobs  \n",
       "0  Statistics Probability  Khan Academy       \n",
       "1  Statistics Probability  Khan Academy       \n",
       "2  Statistics Probability  Khan Academy       \n",
       "3  Statistics Probability  Khan Academy       \n",
       "4  Statistics Probability  Khan Academy       "
      ]
     },
     "execution_count": 121,
     "metadata": {},
     "output_type": "execute_result"
    }
   ],
   "source": [
    "df_courses.head()"
   ]
  },
  {
   "cell_type": "code",
   "execution_count": 133,
   "metadata": {},
   "outputs": [],
   "source": [
    "df_courses[\"Subject_id\"] = df_courses[\"Subject\"].apply(lambda x: int(list(df_subjects[df_subjects.Subject == x].index)[0]))"
   ]
  },
  {
   "cell_type": "code",
   "execution_count": 135,
   "metadata": {},
   "outputs": [],
   "source": [
    "df_courses.to_csv(\"courses.csv\")"
   ]
  },
  {
   "cell_type": "code",
   "execution_count": 151,
   "metadata": {},
   "outputs": [
    {
     "data": {
      "text/html": [
       "<div>\n",
       "<style scoped>\n",
       "    .dataframe tbody tr th:only-of-type {\n",
       "        vertical-align: middle;\n",
       "    }\n",
       "\n",
       "    .dataframe tbody tr th {\n",
       "        vertical-align: top;\n",
       "    }\n",
       "\n",
       "    .dataframe thead th {\n",
       "        text-align: right;\n",
       "    }\n",
       "</style>\n",
       "<table border=\"1\" class=\"dataframe\">\n",
       "  <thead>\n",
       "    <tr style=\"text-align: right;\">\n",
       "      <th></th>\n",
       "      <th>name</th>\n",
       "      <th>company</th>\n",
       "      <th>desc</th>\n",
       "      <th>image</th>\n",
       "      <th>link</th>\n",
       "      <th>provider</th>\n",
       "      <th>subjects</th>\n",
       "      <th>courses</th>\n",
       "      <th>subjects_ids</th>\n",
       "    </tr>\n",
       "  </thead>\n",
       "  <tbody>\n",
       "    <tr>\n",
       "      <th>0</th>\n",
       "      <td>Account Executive_30377</td>\n",
       "      <td>FleetSmith</td>\n",
       "      <td>&lt;p&gt;&lt;p style=\"color: #282c35; font-family: prox...</td>\n",
       "      <td>https://d2fcz5no062gar.cloudfront.net/assets/i...</td>\n",
       "      <td>https://authenticjobs.com/apply/30377</td>\n",
       "      <td>Authentic Jobs</td>\n",
       "      <td>Network &amp; Security, Management, Motivation, Re...</td>\n",
       "      <td>242,290,314,315,327,346,350,375,428,429,441,44...</td>\n",
       "      <td>33,56,60,66,78,121</td>\n",
       "    </tr>\n",
       "    <tr>\n",
       "      <th>1</th>\n",
       "      <td>Android Developer_30370</td>\n",
       "      <td>eTecc / Interactive</td>\n",
       "      <td>&lt;p&gt;&lt;p&gt;eTecc / Interactive is a nimble design a...</td>\n",
       "      <td>https://d2fcz5no062gar.cloudfront.nethttps://a...</td>\n",
       "      <td>https://authenticjobs.com/apply/30370</td>\n",
       "      <td>Authentic Jobs</td>\n",
       "      <td>Other, English</td>\n",
       "      <td>218,317,366,401,456,488,525,549,596,598,661,67...</td>\n",
       "      <td>23,86</td>\n",
       "    </tr>\n",
       "    <tr>\n",
       "      <th>2</th>\n",
       "      <td>Associate Director of User Experience_30396</td>\n",
       "      <td>Manifest LLC</td>\n",
       "      <td>&lt;p&gt;&lt;p&gt;&lt;!-- [if gte mso 9]&gt;&lt;xml&gt;\\n &lt;o:OfficeDoc...</td>\n",
       "      <td>https://d2fcz5no062gar.cloudfront.net/assets/i...</td>\n",
       "      <td>https://careers-manifestllc.icims.com/jobs/218...</td>\n",
       "      <td>Authentic Jobs</td>\n",
       "      <td>Other, Data &amp; Analytics, Mobile Apps, Math &amp; S...</td>\n",
       "      <td>218,317,366,401,456,488,525,549,596,598,661,67...</td>\n",
       "      <td>23,27,31,35,50,53,54,79,124,131</td>\n",
       "    </tr>\n",
       "    <tr>\n",
       "      <th>3</th>\n",
       "      <td>Backend Web Developer (Laravel)_30381</td>\n",
       "      <td>ScaleLab</td>\n",
       "      <td>&lt;p&gt;&lt;p style=\"line-height: 1.38; margin-top: 0p...</td>\n",
       "      <td>https://d2fcz5no062gar.cloudfront.nethttps://a...</td>\n",
       "      <td>https://authenticjobs.com/apply/30381</td>\n",
       "      <td>Authentic Jobs</td>\n",
       "      <td>Data &amp; Analytics, Network &amp; Security, Influenc...</td>\n",
       "      <td>226,232,239,244,245,257,270,275,276,278,283,28...</td>\n",
       "      <td>27,33,54,60,72,118</td>\n",
       "    </tr>\n",
       "    <tr>\n",
       "      <th>4</th>\n",
       "      <td>Blockchain company looking for Front-end Web U...</td>\n",
       "      <td>XYO Network</td>\n",
       "      <td>&lt;p&gt;&lt;h2&gt;Blockchain company looking for Front-en...</td>\n",
       "      <td>https://d2fcz5no062gar.cloudfront.nethttps://a...</td>\n",
       "      <td>https://authenticjobs.com/apply/30346</td>\n",
       "      <td>Authentic Jobs</td>\n",
       "      <td>Network &amp; Security</td>\n",
       "      <td>242,290,314,315,327,346,350,375,428,429,441,44...</td>\n",
       "      <td>33</td>\n",
       "    </tr>\n",
       "  </tbody>\n",
       "</table>\n",
       "</div>"
      ],
      "text/plain": [
       "                                                name              company  \\\n",
       "0                            Account Executive_30377           FleetSmith   \n",
       "1                            Android Developer_30370  eTecc / Interactive   \n",
       "2        Associate Director of User Experience_30396         Manifest LLC   \n",
       "3              Backend Web Developer (Laravel)_30381             ScaleLab   \n",
       "4  Blockchain company looking for Front-end Web U...          XYO Network   \n",
       "\n",
       "                                                desc  \\\n",
       "0  <p><p style=\"color: #282c35; font-family: prox...   \n",
       "1  <p><p>eTecc / Interactive is a nimble design a...   \n",
       "2  <p><p><!-- [if gte mso 9]><xml>\\n <o:OfficeDoc...   \n",
       "3  <p><p style=\"line-height: 1.38; margin-top: 0p...   \n",
       "4  <p><h2>Blockchain company looking for Front-en...   \n",
       "\n",
       "                                               image  \\\n",
       "0  https://d2fcz5no062gar.cloudfront.net/assets/i...   \n",
       "1  https://d2fcz5no062gar.cloudfront.nethttps://a...   \n",
       "2  https://d2fcz5no062gar.cloudfront.net/assets/i...   \n",
       "3  https://d2fcz5no062gar.cloudfront.nethttps://a...   \n",
       "4  https://d2fcz5no062gar.cloudfront.nethttps://a...   \n",
       "\n",
       "                                                link        provider  \\\n",
       "0              https://authenticjobs.com/apply/30377  Authentic Jobs   \n",
       "1              https://authenticjobs.com/apply/30370  Authentic Jobs   \n",
       "2  https://careers-manifestllc.icims.com/jobs/218...  Authentic Jobs   \n",
       "3              https://authenticjobs.com/apply/30381  Authentic Jobs   \n",
       "4              https://authenticjobs.com/apply/30346  Authentic Jobs   \n",
       "\n",
       "                                            subjects  \\\n",
       "0  Network & Security, Management, Motivation, Re...   \n",
       "1                                     Other, English   \n",
       "2  Other, Data & Analytics, Mobile Apps, Math & S...   \n",
       "3  Data & Analytics, Network & Security, Influenc...   \n",
       "4                                 Network & Security   \n",
       "\n",
       "                                             courses  \\\n",
       "0  242,290,314,315,327,346,350,375,428,429,441,44...   \n",
       "1  218,317,366,401,456,488,525,549,596,598,661,67...   \n",
       "2  218,317,366,401,456,488,525,549,596,598,661,67...   \n",
       "3  226,232,239,244,245,257,270,275,276,278,283,28...   \n",
       "4  242,290,314,315,327,346,350,375,428,429,441,44...   \n",
       "\n",
       "                      subjects_ids  \n",
       "0               33,56,60,66,78,121  \n",
       "1                            23,86  \n",
       "2  23,27,31,35,50,53,54,79,124,131  \n",
       "3               27,33,54,60,72,118  \n",
       "4                               33  "
      ]
     },
     "execution_count": 151,
     "metadata": {},
     "output_type": "execute_result"
    }
   ],
   "source": [
    "df_jobs.head()"
   ]
  },
  {
   "cell_type": "code",
   "execution_count": null,
   "metadata": {},
   "outputs": [],
   "source": []
  }
 ],
 "metadata": {
  "kernelspec": {
   "display_name": "Python 3",
   "language": "python",
   "name": "python3"
  },
  "language_info": {
   "codemirror_mode": {
    "name": "ipython",
    "version": 3
   },
   "file_extension": ".py",
   "mimetype": "text/x-python",
   "name": "python",
   "nbconvert_exporter": "python",
   "pygments_lexer": "ipython3",
   "version": "3.6.4"
  }
 },
 "nbformat": 4,
 "nbformat_minor": 2
}
