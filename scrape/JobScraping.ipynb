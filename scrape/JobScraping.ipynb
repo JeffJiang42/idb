{
 "cells": [
  {
   "cell_type": "code",
   "execution_count": 3,
   "metadata": {},
   "outputs": [],
   "source": [
    "import requests\n",
    "import json\n",
    "from bs4 import BeautifulSoup\n",
    "import pandas as pd"
   ]
  },
  {
   "cell_type": "code",
   "execution_count": 38,
   "metadata": {},
   "outputs": [],
   "source": [
    "key = \"e3bef03ea4fa4ba826f7f76cecf6f1ce\""
   ]
  },
  {
   "cell_type": "code",
   "execution_count": 39,
   "metadata": {},
   "outputs": [],
   "source": [
    "df = pd.read_csv(\"courses.csv\",encoding = \"ISO-8859-1\")"
   ]
  },
  {
   "cell_type": "code",
   "execution_count": 40,
   "metadata": {},
   "outputs": [],
   "source": [
    "categories = list(df[\"Subject\"].unique())"
   ]
  },
  {
   "cell_type": "code",
   "execution_count": 41,
   "metadata": {},
   "outputs": [
    {
     "data": {
      "text/plain": [
       "['Statistics Probability',\n",
       " 'Probability',\n",
       " 'Multivariable Calculus',\n",
       " 'Differential Equations',\n",
       " 'Linear Algebra',\n",
       " 'Physics',\n",
       " 'Chemistry',\n",
       " 'Organic Chemistry',\n",
       " 'Biology',\n",
       " 'High School Biology',\n",
       " 'Cosmology And Astronomy',\n",
       " 'Electrical Engineering',\n",
       " 'Macroeconomics',\n",
       " 'Microeconomics',\n",
       " 'Core Finance',\n",
       " 'Us History',\n",
       " 'World History',\n",
       " 'Art History',\n",
       " 'Grammar',\n",
       " 'Music',\n",
       " 'Computer Programming',\n",
       " 'Computer Science',\n",
       " 'Web Development',\n",
       " 'Other',\n",
       " 'Programming Languages',\n",
       " 'Personal Transformation',\n",
       " 'Personal Finance',\n",
       " 'Data & Analytics',\n",
       " 'Memory & Study Skills',\n",
       " 'Home Business',\n",
       " 'Operating Systems',\n",
       " 'Mobile Apps',\n",
       " 'Finance',\n",
       " 'Network & Security',\n",
       " 'IT Certification',\n",
       " 'Math & Science',\n",
       " 'Microsoft',\n",
       " 'Project Management',\n",
       " 'Entrepreneurship',\n",
       " 'Databases',\n",
       " 'Software Testing',\n",
       " 'Development Tools',\n",
       " 'Meditation',\n",
       " 'Communications',\n",
       " 'Web Design',\n",
       " 'Software Engineering',\n",
       " 'Sports',\n",
       " 'Social Media Marketing',\n",
       " 'Digital Marketing',\n",
       " 'Game Development',\n",
       " 'User Experience',\n",
       " 'Creativity',\n",
       " 'Video Design',\n",
       " 'Leadership',\n",
       " 'Influence',\n",
       " 'Game Design',\n",
       " 'Management',\n",
       " 'Marketing Fundamentals',\n",
       " 'Graphic Design',\n",
       " 'Music Fundamentals',\n",
       " 'Motivation',\n",
       " '3D & Animation',\n",
       " 'Content Marketing',\n",
       " 'Productivity',\n",
       " 'Career Development',\n",
       " 'Photography Fundamentals',\n",
       " 'Religion & Spirituality',\n",
       " 'Design Tools',\n",
       " 'Photography Tools',\n",
       " 'Affiliate Marketing',\n",
       " 'Branding',\n",
       " 'Mental Health',\n",
       " 'Media',\n",
       " 'Search Engine Optimization',\n",
       " 'Instruments',\n",
       " 'Mobile Photography',\n",
       " 'Production',\n",
       " 'Arts & Crafts',\n",
       " 'Sales',\n",
       " 'Strategy',\n",
       " 'Self Esteem',\n",
       " 'Music Software',\n",
       " 'Growth Hacking',\n",
       " 'Vocal',\n",
       " 'Hardware',\n",
       " 'Pet Care & Training',\n",
       " 'English',\n",
       " 'Nutrition',\n",
       " 'Real Estate',\n",
       " 'Test Taking Skills',\n",
       " 'Analytics & Automation',\n",
       " 'Self Defense',\n",
       " 'Digital Photography',\n",
       " 'Yoga',\n",
       " 'Japanese',\n",
       " 'Oracle',\n",
       " 'Spanish',\n",
       " 'German',\n",
       " 'Teaching Tools',\n",
       " 'Chinese',\n",
       " 'Operations',\n",
       " 'Architectural Design',\n",
       " 'Italian',\n",
       " 'E-Commerce',\n",
       " 'Music Techniques',\n",
       " 'Parenting & Relationships',\n",
       " 'Fitness',\n",
       " 'Humanities',\n",
       " 'Other Programming',\n",
       " 'Happiness',\n",
       " 'Landscape',\n",
       " 'Advertising',\n",
       " 'General Health',\n",
       " 'Food & Beverage',\n",
       " 'Wedding Photography',\n",
       " 'Interior Design',\n",
       " 'Gaming',\n",
       " 'Russian',\n",
       " 'Industry',\n",
       " 'Grad Entry Exam',\n",
       " 'SAP',\n",
       " 'Video & Mobile Marketing',\n",
       " 'Product Marketing',\n",
       " 'Black & White',\n",
       " 'Design Thinking',\n",
       " 'Personal Brand Building',\n",
       " 'Portraits',\n",
       " 'Instructional Design',\n",
       " 'Fashion',\n",
       " 'Commercial Photography',\n",
       " 'Stress Management',\n",
       " 'Travel',\n",
       " 'Intuit',\n",
       " 'Human Resources',\n",
       " 'French',\n",
       " 'Google',\n",
       " 'Dieting',\n",
       " 'Travel Photography',\n",
       " 'Apple',\n",
       " 'Salesforce']"
      ]
     },
     "execution_count": 41,
     "metadata": {},
     "output_type": "execute_result"
    }
   ],
   "source": [
    "categories"
   ]
  },
  {
   "cell_type": "markdown",
   "metadata": {},
   "source": [
    "### Authentic Jobs"
   ]
  },
  {
   "cell_type": "code",
   "execution_count": 42,
   "metadata": {},
   "outputs": [],
   "source": [
    "authentic_jobs = {\"name\": [], \n",
    "                  \"company\": [], \n",
    "                  \"provider\": [], \n",
    "                  \"image\":[],\n",
    "                  \"link\":[],\n",
    "                  \"desc\": [],\n",
    "                  \"subjects\": []} "
   ]
  },
  {
   "cell_type": "code",
   "execution_count": 43,
   "metadata": {
    "scrolled": true
   },
   "outputs": [
    {
     "name": "stdout",
     "output_type": "stream",
     "text": [
      "Statistics Probability\n",
      "Probability\n",
      "Multivariable Calculus\n",
      "Differential Equations\n",
      "Linear Algebra\n",
      "Physics\n",
      "Chemistry\n",
      "Organic Chemistry\n",
      "Biology\n",
      "High School Biology\n",
      "Cosmology And Astronomy\n",
      "Electrical Engineering\n",
      "Macroeconomics\n",
      "Microeconomics\n",
      "Core Finance\n",
      "Us History\n",
      "World History\n",
      "Art History\n",
      "Grammar\n",
      "Music\n",
      "Computer Programming\n",
      "Computer Science\n",
      "Web Development\n",
      "Other\n",
      "Programming Languages\n",
      "Personal Transformation\n",
      "Personal Finance\n",
      "Data & Analytics\n",
      "Memory & Study Skills\n",
      "Home Business\n",
      "Operating Systems\n",
      "Mobile Apps\n",
      "Finance\n",
      "Network & Security\n",
      "IT Certification\n",
      "Math & Science\n",
      "Microsoft\n",
      "Project Management\n",
      "Entrepreneurship\n",
      "Databases\n",
      "Software Testing\n",
      "Development Tools\n",
      "Meditation\n",
      "Communications\n",
      "Web Design\n",
      "Software Engineering\n",
      "Sports\n",
      "Social Media Marketing\n",
      "Digital Marketing\n",
      "Game Development\n",
      "User Experience\n",
      "Creativity\n",
      "Video Design\n",
      "Leadership\n",
      "Influence\n",
      "Game Design\n",
      "Management\n",
      "Marketing Fundamentals\n",
      "Graphic Design\n",
      "Music Fundamentals\n",
      "Motivation\n",
      "3D & Animation\n",
      "Content Marketing\n",
      "Productivity\n",
      "Career Development\n",
      "Photography Fundamentals\n",
      "Religion & Spirituality\n",
      "Design Tools\n",
      "Photography Tools\n",
      "Affiliate Marketing\n",
      "Branding\n",
      "Mental Health\n",
      "Media\n",
      "Search Engine Optimization\n",
      "Instruments\n",
      "Mobile Photography\n",
      "Production\n",
      "Arts & Crafts\n",
      "Sales\n",
      "Strategy\n",
      "Self Esteem\n",
      "Music Software\n",
      "Growth Hacking\n",
      "Vocal\n",
      "Hardware\n",
      "Pet Care & Training\n",
      "English\n",
      "Nutrition\n",
      "Real Estate\n",
      "Test Taking Skills\n",
      "Analytics & Automation\n",
      "Self Defense\n",
      "Digital Photography\n",
      "Yoga\n",
      "Japanese\n",
      "Oracle\n",
      "Spanish\n",
      "German\n",
      "Teaching Tools\n",
      "Chinese\n",
      "Operations\n",
      "Architectural Design\n",
      "Italian\n",
      "E-Commerce\n",
      "Music Techniques\n",
      "Parenting & Relationships\n",
      "Fitness\n",
      "Humanities\n",
      "Other Programming\n",
      "Happiness\n",
      "Landscape\n",
      "Advertising\n",
      "General Health\n",
      "Food & Beverage\n",
      "Wedding Photography\n",
      "Interior Design\n",
      "Gaming\n",
      "Russian\n",
      "Industry\n",
      "Grad Entry Exam\n",
      "SAP\n",
      "Video & Mobile Marketing\n",
      "Product Marketing\n",
      "Black & White\n",
      "Design Thinking\n",
      "Personal Brand Building\n",
      "Portraits\n",
      "Instructional Design\n",
      "Fashion\n",
      "Commercial Photography\n",
      "Stress Management\n",
      "Travel\n",
      "Intuit\n",
      "Human Resources\n",
      "French\n",
      "Google\n",
      "Dieting\n",
      "Travel Photography\n",
      "Apple\n",
      "Salesforce\n"
     ]
    }
   ],
   "source": [
    "for subject in categories:\n",
    "    print(subject)\n",
    "    pages = None\n",
    "    curr = 1\n",
    "    while pages is None or curr <= pages:\n",
    "        url = \"https://authenticjobs.com/api/?api_key=\"+key+\"&method=aj.jobs.search&keywords=\"+subject+\"&page=\"+str(curr)\n",
    "        r = requests.get(url)\n",
    "        soup = BeautifulSoup(r.text,'lxml')\n",
    "        if pages is None:\n",
    "            pages = int(soup.listings['pages'])\n",
    "        listings = soup.listings.find_all(\"listing\")\n",
    "        for listing in listings:\n",
    "            authentic_jobs[\"name\"].append(listing[\"title\"]+\"_\"+listing[\"id\"])\n",
    "            authentic_jobs[\"company\"].append(listing.company[\"name\"])\n",
    "            authentic_jobs[\"provider\"].append(\"Authentic Jobs\")\n",
    "            authentic_jobs[\"image\"].append(listing.company[\"logo\"])\n",
    "            authentic_jobs[\"link\"].append(listing[\"apply_url\"])\n",
    "            authentic_jobs[\"desc\"].append(listing[\"description\"])\n",
    "            authentic_jobs[\"subjects\"].append(subject)\n",
    "        curr += 1\n",
    "        "
   ]
  },
  {
   "cell_type": "code",
   "execution_count": 44,
   "metadata": {},
   "outputs": [],
   "source": [
    "len_ = len(authentic_jobs[\"name\"])\n",
    "for key in authentic_jobs:\n",
    "    assert len(authentic_jobs[\"name\"])==len_"
   ]
  },
  {
   "cell_type": "code",
   "execution_count": 45,
   "metadata": {},
   "outputs": [],
   "source": [
    "auth_jobs_df = pd.DataFrame.from_dict(authentic_jobs)"
   ]
  },
  {
   "cell_type": "code",
   "execution_count": 46,
   "metadata": {},
   "outputs": [],
   "source": [
    "agg_dict = {key:\"first\" if key != \"subjects\" else ', '.join for key in auth_jobs_df.columns }\n",
    "auth_jobs_df = auth_jobs_df.groupby(auth_jobs_df[\"name\"]).agg(agg_dict)"
   ]
  },
  {
   "cell_type": "code",
   "execution_count": 47,
   "metadata": {},
   "outputs": [],
   "source": [
    "auth_jobs_df[\"name\"] = auth_jobs_df[\"name\"].apply(lambda x: ''.join(x.split(\"_\")[:-1]))"
   ]
  },
  {
   "cell_type": "code",
   "execution_count": 48,
   "metadata": {},
   "outputs": [],
   "source": [
    "auth_jobs_df2 = auth_jobs_df[[col for col in auth_jobs_df.columns if col!=\"name2\" and col!=\"name\"]]"
   ]
  },
  {
   "cell_type": "code",
   "execution_count": 49,
   "metadata": {},
   "outputs": [],
   "source": [
    "auth_jobs_df = auth_jobs_df2.reset_index()"
   ]
  },
  {
   "cell_type": "code",
   "execution_count": 50,
   "metadata": {},
   "outputs": [],
   "source": [
    "auth_jobs_df.to_csv(\"authentic_jobs.csv\")"
   ]
  },
  {
   "cell_type": "markdown",
   "metadata": {},
   "source": [
    "### Github Jobs"
   ]
  },
  {
   "cell_type": "code",
   "execution_count": 18,
   "metadata": {},
   "outputs": [],
   "source": [
    "github_jobs = {\"name\": [], \n",
    "                  \"company\": [], \n",
    "                  \"provider\": [], \n",
    "                  \"image\":[],\n",
    "                  \"link\":[],\n",
    "                  \"desc\": [],\n",
    "                  \"subjects\": [],\n",
    "                  \"id\": []} "
   ]
  },
  {
   "cell_type": "code",
   "execution_count": 9,
   "metadata": {},
   "outputs": [],
   "source": [
    "subject = \"python\"\n",
    "url = \"https://jobs.github.com/positions.json?description=\"+subject\n",
    "r = requests.get(url)\n"
   ]
  },
  {
   "cell_type": "code",
   "execution_count": 14,
   "metadata": {},
   "outputs": [],
   "source": [
    "responses = json.loads(r.text)"
   ]
  },
  {
   "cell_type": "code",
   "execution_count": 17,
   "metadata": {},
   "outputs": [
    {
     "name": "stdout",
     "output_type": "stream",
     "text": [
      "dict_keys(['id', 'created_at', 'title', 'location', 'type', 'description', 'how_to_apply', 'company', 'company_url', 'company_logo', 'url'])\n"
     ]
    }
   ],
   "source": [
    "for response in responses:\n",
    "    print(response.keys())\n",
    "    break"
   ]
  },
  {
   "cell_type": "code",
   "execution_count": 20,
   "metadata": {
    "scrolled": true
   },
   "outputs": [
    {
     "name": "stdout",
     "output_type": "stream",
     "text": [
      "Statistics Probability\n",
      "Probability\n",
      "Multivariable Calculus\n",
      "Differential Equations\n",
      "Linear Algebra\n",
      "Physics\n",
      "Chemistry\n",
      "Organic Chemistry\n",
      "Biology\n",
      "High School Biology\n",
      "Cosmology And Astronomy\n",
      "Electrical Engineering\n",
      "Macroeconomics\n",
      "Microeconomics\n",
      "Core Finance\n",
      "Us History\n",
      "World History\n",
      "Art History\n",
      "Grammar\n",
      "Music\n",
      "Computer Programming\n",
      "Computer Science\n",
      "Web Development\n",
      "Other\n",
      "Programming Languages\n",
      "Personal Transformation\n",
      "Personal Finance\n",
      "Data & Analytics\n",
      "Memory & Study Skills\n",
      "Home Business\n",
      "Operating Systems\n",
      "Mobile Apps\n",
      "Finance\n",
      "Network & Security\n",
      "IT Certification\n",
      "Math & Science\n",
      "Microsoft\n",
      "Project Management\n",
      "Entrepreneurship\n",
      "Databases\n",
      "Software Testing\n",
      "Development Tools\n",
      "Meditation\n",
      "Communications\n",
      "Web Design\n",
      "Software Engineering\n",
      "Sports\n",
      "Social Media Marketing\n",
      "Digital Marketing\n",
      "Game Development\n",
      "User Experience\n",
      "Creativity\n",
      "Video Design\n",
      "Leadership\n",
      "Influence\n",
      "Game Design\n",
      "Management\n",
      "Marketing Fundamentals\n",
      "Graphic Design\n",
      "Music Fundamentals\n",
      "Motivation\n",
      "3D & Animation\n",
      "Content Marketing\n",
      "Productivity\n",
      "Career Development\n",
      "Photography Fundamentals\n",
      "Religion & Spirituality\n",
      "Design Tools\n",
      "Photography Tools\n",
      "Affiliate Marketing\n",
      "Branding\n",
      "Mental Health\n",
      "Media\n",
      "Search Engine Optimization\n",
      "Instruments\n",
      "Mobile Photography\n",
      "Production\n",
      "Arts & Crafts\n",
      "Sales\n",
      "Strategy\n",
      "Self Esteem\n",
      "Music Software\n",
      "Growth Hacking\n",
      "Vocal\n",
      "Hardware\n",
      "Pet Care & Training\n",
      "English\n",
      "Nutrition\n",
      "Real Estate\n",
      "Test Taking Skills\n",
      "Analytics & Automation\n",
      "Self Defense\n",
      "Digital Photography\n",
      "Yoga\n",
      "Japanese\n",
      "Oracle\n",
      "Spanish\n",
      "German\n",
      "Teaching Tools\n",
      "Chinese\n",
      "Operations\n",
      "Architectural Design\n",
      "Italian\n",
      "E-Commerce\n",
      "Music Techniques\n",
      "Parenting & Relationships\n",
      "Fitness\n",
      "Humanities\n",
      "Other Programming\n",
      "Happiness\n",
      "Landscape\n",
      "Advertising\n",
      "General Health\n",
      "Food & Beverage\n",
      "Wedding Photography\n",
      "Interior Design\n",
      "Gaming\n",
      "Russian\n",
      "Industry\n",
      "Grad Entry Exam\n",
      "SAP\n",
      "Video & Mobile Marketing\n",
      "Product Marketing\n",
      "Black & White\n",
      "Design Thinking\n",
      "Personal Brand Building\n",
      "Portraits\n",
      "Instructional Design\n",
      "Fashion\n",
      "Commercial Photography\n",
      "Stress Management\n",
      "Travel\n",
      "Intuit\n",
      "Human Resources\n",
      "French\n",
      "Google\n",
      "Dieting\n",
      "Travel Photography\n",
      "Apple\n",
      "Salesforce\n"
     ]
    }
   ],
   "source": [
    "for subject in categories:\n",
    "    print(subject)\n",
    "    curr = 0\n",
    "    while True:\n",
    "        url = \"https://jobs.github.com/positions.json?description=\"+subject+\"&page=\"+str(curr)\n",
    "        r = requests.get(url)\n",
    "        listings = json.loads(r.text)\n",
    "        if len(listings)==0:\n",
    "            break\n",
    "        for listing in listings:\n",
    "            github_jobs[\"name\"].append(listing[\"title\"])\n",
    "            github_jobs[\"id\"].append(listing[\"id\"])\n",
    "            github_jobs[\"company\"].append(listing[\"company\"])\n",
    "            github_jobs[\"provider\"].append(\"Github Jobs\")\n",
    "            github_jobs[\"image\"].append(listing[\"company_logo\"])\n",
    "            github_jobs[\"link\"].append(listing[\"url\"])\n",
    "            github_jobs[\"desc\"].append(listing[\"description\"])\n",
    "            github_jobs[\"subjects\"].append(subject)\n",
    "        curr += 1\n",
    "        "
   ]
  },
  {
   "cell_type": "code",
   "execution_count": 21,
   "metadata": {},
   "outputs": [
    {
     "name": "stdout",
     "output_type": "stream",
     "text": [
      "2730\n",
      "2730\n",
      "2730\n",
      "2730\n",
      "2730\n",
      "2730\n",
      "2730\n",
      "2730\n"
     ]
    }
   ],
   "source": [
    "for key in github_jobs:\n",
    "    print(len(github_jobs[key]))"
   ]
  },
  {
   "cell_type": "code",
   "execution_count": 22,
   "metadata": {},
   "outputs": [],
   "source": [
    "github_jobs_df = pd.DataFrame.from_dict(github_jobs)"
   ]
  },
  {
   "cell_type": "code",
   "execution_count": 23,
   "metadata": {},
   "outputs": [],
   "source": [
    "agg_dict = {key:\"first\" if key != \"subjects\" else ', '.join for key in github_jobs_df.columns }\n",
    "github_jobs_df = github_jobs_df.groupby(github_jobs_df[\"id\"]).agg(agg_dict)"
   ]
  },
  {
   "cell_type": "code",
   "execution_count": 31,
   "metadata": {},
   "outputs": [],
   "source": [
    "github_jobs_df = github_jobs_df[[\"name\",\"company\",\"desc\",\"image\",\"link\",\"provider\",\"subjects\"]]"
   ]
  },
  {
   "cell_type": "code",
   "execution_count": 33,
   "metadata": {},
   "outputs": [],
   "source": [
    "github_jobs_df = github_jobs_df.reset_index()"
   ]
  },
  {
   "cell_type": "code",
   "execution_count": 35,
   "metadata": {},
   "outputs": [
    {
     "data": {
      "text/html": [
       "<div>\n",
       "<style scoped>\n",
       "    .dataframe tbody tr th:only-of-type {\n",
       "        vertical-align: middle;\n",
       "    }\n",
       "\n",
       "    .dataframe tbody tr th {\n",
       "        vertical-align: top;\n",
       "    }\n",
       "\n",
       "    .dataframe thead th {\n",
       "        text-align: right;\n",
       "    }\n",
       "</style>\n",
       "<table border=\"1\" class=\"dataframe\">\n",
       "  <thead>\n",
       "    <tr style=\"text-align: right;\">\n",
       "      <th></th>\n",
       "      <th>name</th>\n",
       "      <th>company</th>\n",
       "      <th>desc</th>\n",
       "      <th>image</th>\n",
       "      <th>link</th>\n",
       "      <th>provider</th>\n",
       "      <th>subjects</th>\n",
       "    </tr>\n",
       "  </thead>\n",
       "  <tbody>\n",
       "    <tr>\n",
       "      <th>0</th>\n",
       "      <td>Software Engineer - Fullstack</td>\n",
       "      <td>Vlocity</td>\n",
       "      <td>&lt;p&gt;Company Description&lt;/p&gt;\\n\\n&lt;p&gt;Vlocity is a ...</td>\n",
       "      <td>http://github-jobs.s3.amazonaws.com/fc87ecf2-2...</td>\n",
       "      <td>http://jobs.github.com/positions/01e73658-2222...</td>\n",
       "      <td>Github Jobs</td>\n",
       "      <td>Computer Science, Web Development, Data &amp; Anal...</td>\n",
       "    </tr>\n",
       "    <tr>\n",
       "      <th>1</th>\n",
       "      <td>Software Engineer</td>\n",
       "      <td>Tetchy Tech</td>\n",
       "      <td>&lt;p&gt;SUMMARY - Software Engineer\\nThe Software E...</td>\n",
       "      <td>http://github-jobs.s3.amazonaws.com/ff13bf34-1...</td>\n",
       "      <td>http://jobs.github.com/positions/024014fa-1811...</td>\n",
       "      <td>Github Jobs</td>\n",
       "      <td>Web Development, Programming Languages, Operat...</td>\n",
       "    </tr>\n",
       "    <tr>\n",
       "      <th>2</th>\n",
       "      <td>Cyber Security Incident Management Investigato...</td>\n",
       "      <td>SAP</td>\n",
       "      <td>&lt;p&gt;View job and apply on the corporate career ...</td>\n",
       "      <td>http://github-jobs.s3.amazonaws.com/f4af6d58-1...</td>\n",
       "      <td>http://jobs.github.com/positions/0276f780-1498...</td>\n",
       "      <td>Github Jobs</td>\n",
       "      <td>Operating Systems, Network &amp; Security, Databas...</td>\n",
       "    </tr>\n",
       "    <tr>\n",
       "      <th>3</th>\n",
       "      <td>Backend Web Developer (Node)</td>\n",
       "      <td>ScaleLab</td>\n",
       "      <td>&lt;p&gt;&lt;strong&gt;Who We Are&lt;/strong&gt;&lt;/p&gt;\\n\\n&lt;p&gt;Scale...</td>\n",
       "      <td>http://github-jobs.s3.amazonaws.com/a4b23ba6-1...</td>\n",
       "      <td>http://jobs.github.com/positions/037fa17c-1e48...</td>\n",
       "      <td>Github Jobs</td>\n",
       "      <td>Web Development, Data &amp; Analytics, Network &amp; S...</td>\n",
       "    </tr>\n",
       "    <tr>\n",
       "      <th>4</th>\n",
       "      <td>PHP Full Stack Developer</td>\n",
       "      <td>Budget Dumpster</td>\n",
       "      <td>&lt;p&gt;Want to work for one of the fastest growing...</td>\n",
       "      <td>http://github-jobs.s3.amazonaws.com/d685e410-1...</td>\n",
       "      <td>http://jobs.github.com/positions/042841ee-157c...</td>\n",
       "      <td>Github Jobs</td>\n",
       "      <td>Web Development, Project Management, Web Desig...</td>\n",
       "    </tr>\n",
       "  </tbody>\n",
       "</table>\n",
       "</div>"
      ],
      "text/plain": [
       "                                                name          company  \\\n",
       "0                      Software Engineer - Fullstack          Vlocity   \n",
       "1                                  Software Engineer      Tetchy Tech   \n",
       "2  Cyber Security Incident Management Investigato...              SAP   \n",
       "3                       Backend Web Developer (Node)         ScaleLab   \n",
       "4                           PHP Full Stack Developer  Budget Dumpster   \n",
       "\n",
       "                                                desc  \\\n",
       "0  <p>Company Description</p>\\n\\n<p>Vlocity is a ...   \n",
       "1  <p>SUMMARY - Software Engineer\\nThe Software E...   \n",
       "2  <p>View job and apply on the corporate career ...   \n",
       "3  <p><strong>Who We Are</strong></p>\\n\\n<p>Scale...   \n",
       "4  <p>Want to work for one of the fastest growing...   \n",
       "\n",
       "                                               image  \\\n",
       "0  http://github-jobs.s3.amazonaws.com/fc87ecf2-2...   \n",
       "1  http://github-jobs.s3.amazonaws.com/ff13bf34-1...   \n",
       "2  http://github-jobs.s3.amazonaws.com/f4af6d58-1...   \n",
       "3  http://github-jobs.s3.amazonaws.com/a4b23ba6-1...   \n",
       "4  http://github-jobs.s3.amazonaws.com/d685e410-1...   \n",
       "\n",
       "                                                link     provider  \\\n",
       "0  http://jobs.github.com/positions/01e73658-2222...  Github Jobs   \n",
       "1  http://jobs.github.com/positions/024014fa-1811...  Github Jobs   \n",
       "2  http://jobs.github.com/positions/0276f780-1498...  Github Jobs   \n",
       "3  http://jobs.github.com/positions/037fa17c-1e48...  Github Jobs   \n",
       "4  http://jobs.github.com/positions/042841ee-157c...  Github Jobs   \n",
       "\n",
       "                                            subjects  \n",
       "0  Computer Science, Web Development, Data & Anal...  \n",
       "1  Web Development, Programming Languages, Operat...  \n",
       "2  Operating Systems, Network & Security, Databas...  \n",
       "3  Web Development, Data & Analytics, Network & S...  \n",
       "4  Web Development, Project Management, Web Desig...  "
      ]
     },
     "execution_count": 35,
     "metadata": {},
     "output_type": "execute_result"
    }
   ],
   "source": [
    "github_jobs_df = github_jobs_df[github_jobs_df.columns[1:]]\n",
    "github_jobs_df.head()"
   ]
  },
  {
   "cell_type": "code",
   "execution_count": 51,
   "metadata": {},
   "outputs": [],
   "source": [
    "github_jobs_df.to_csv(\"github_jobs.csv\")"
   ]
  },
  {
   "cell_type": "markdown",
   "metadata": {},
   "source": [
    "### MERGE"
   ]
  },
  {
   "cell_type": "code",
   "execution_count": null,
   "metadata": {},
   "outputs": [],
   "source": []
  },
  {
   "cell_type": "code",
   "execution_count": 52,
   "metadata": {},
   "outputs": [],
   "source": [
    "df_jobs = pd.concat([auth_jobs_df,github_jobs_df])"
   ]
  },
  {
   "cell_type": "code",
   "execution_count": 55,
   "metadata": {},
   "outputs": [],
   "source": [
    "df_jobs.to_csv(\"jobs.csv\")"
   ]
  },
  {
   "cell_type": "markdown",
   "metadata": {},
   "source": [
    "### Collect using Courses?"
   ]
  },
  {
   "cell_type": "code",
   "execution_count": 32,
   "metadata": {},
   "outputs": [],
   "source": [
    "github_jobs = {\"name\": [], \n",
    "                  \"company\": [], \n",
    "                  \"provider\": [], \n",
    "                  \"image\":[],\n",
    "                  \"link\":[],\n",
    "                  \"desc\": [],\n",
    "                  \"courses\": [],\n",
    "                  \"id\": [],\n",
    "                  \"location\": []} "
   ]
  },
  {
   "cell_type": "code",
   "execution_count": 6,
   "metadata": {},
   "outputs": [],
   "source": [
    "df_courses = pd.read_csv(\"courses.csv\",encoding = \"ISO-8859-1\")\n",
    "df_courses = df_courses[df_courses.columns[1:]]"
   ]
  },
  {
   "cell_type": "code",
   "execution_count": 10,
   "metadata": {},
   "outputs": [],
   "source": [
    "courses = list(df_courses.Course)"
   ]
  },
  {
   "cell_type": "code",
   "execution_count": 33,
   "metadata": {},
   "outputs": [
    {
     "name": "stdout",
     "output_type": "stream",
     "text": [
      "Analyzing categorical data\n",
      "Displaying and comparing quantitative data\n",
      "Summarizing quantitative data\n",
      "Modeling data distributions\n",
      "Exploring bivariate numerical data\n",
      "Study design\n",
      "Probability\n",
      "9\n"
     ]
    }
   ],
   "source": [
    "i = 0\n",
    "for course in courses:\n",
    "    print(course)\n",
    "    if i+1 >= 10:\n",
    "        print(i)\n",
    "        break\n",
    "    curr = 0\n",
    "    while True:\n",
    "        if i+1 % 10 == 0:\n",
    "            print(i)\n",
    "            break\n",
    "        url = \"https://jobs.github.com/positions.json?description=\"+course+\"&page=\"+str(curr)\n",
    "        r = requests.get(url)\n",
    "        listings = json.loads(r.text)\n",
    "        if len(listings)==0:\n",
    "            break\n",
    "        for listing in listings:\n",
    "            \n",
    "            if i+1 % 10 == 0:\n",
    "                print(i)\n",
    "                break\n",
    "            github_jobs[\"name\"].append(listing[\"title\"])\n",
    "            github_jobs[\"id\"].append(listing[\"id\"])\n",
    "            github_jobs[\"company\"].append(listing[\"company\"])\n",
    "            github_jobs[\"provider\"].append(\"Github Jobs\")\n",
    "            github_jobs[\"image\"].append(listing[\"company_logo\"])\n",
    "            github_jobs[\"link\"].append(listing[\"url\"])\n",
    "            github_jobs[\"desc\"].append(listing[\"description\"])\n",
    "            github_jobs[\"courses\"].append(course)\n",
    "            github_jobs[\"location\"].append(listing[\"location\"])\n",
    "            \n",
    "            i+=1\n",
    "        curr += 1\n",
    "        "
   ]
  },
  {
   "cell_type": "code",
   "execution_count": 12,
   "metadata": {},
   "outputs": [
    {
     "name": "stdout",
     "output_type": "stream",
     "text": [
      "0\n"
     ]
    }
   ],
   "source": [
    "for i,course in enumerate(courses):\n",
    "    print(i)\n",
    "    break"
   ]
  },
  {
   "cell_type": "code",
   "execution_count": 34,
   "metadata": {},
   "outputs": [
    {
     "data": {
      "text/plain": [
       "9"
      ]
     },
     "execution_count": 34,
     "metadata": {},
     "output_type": "execute_result"
    }
   ],
   "source": [
    "len(github_jobs['company'])"
   ]
  },
  {
   "cell_type": "code",
   "execution_count": 36,
   "metadata": {},
   "outputs": [
    {
     "data": {
      "text/plain": [
       "{'company': ['Apple Inc.',\n",
       "  'Apple Inc.',\n",
       "  'Stanford University',\n",
       "  'LOVOO GmbH',\n",
       "  'Azavea',\n",
       "  'American Wind Energy Association',\n",
       "  'SUVODA',\n",
       "  'Magazino GmbH',\n",
       "  'The Simulation Group'],\n",
       " 'courses': ['Modeling data distributions',\n",
       "  'Modeling data distributions',\n",
       "  'Modeling data distributions',\n",
       "  'Modeling data distributions',\n",
       "  'Modeling data distributions',\n",
       "  'Modeling data distributions',\n",
       "  'Study design',\n",
       "  'Study design',\n",
       "  'Study design'],\n",
       " 'desc': [\"<p>DESCRIPTION: Changing the world is all in a day's work at Apple. If you love innovation, here's your chance to make a career of it. You'll work hard. But the job comes with more than a few perks.</p>\\n\\n<p>The Apple Media Products Commerce Engineering Team is looking for a proven Software Engineer to work on App Store features, including Account Creation, Manage Payment Info, Content Purchase, In-App purchase, subscriptions and more. Join our exciting engineering team that has been leading the digital distribution industry by constantly developing innovative features since its launch. The position requires someone who's comfortable with all aspects of the software design cycle.</p>\\n\\n<p>Key Qualifications:  </p>\\n\\n<ul>\\n<li>At least 5+ years of experience in designing, implementing and supporting highly scalable applications and web services in Java</li>\\n<li>Experience in complex 3rd party integrations (synchronous to asynchronous design)</li>\\n<li>Solid experience working with SQL and large relational databases (Oracle) including data modeling</li>\\n<li>Experience building and using distributed systems, distributed caching, distributed key-value stores</li>\\n<li>Experience programming for eventual consistency</li>\\n<li>Experience programming with one or more scripting languages is a plus</li>\\n<li>Strong communication and leadership skills; you will be required to proactively engage with other teams</li>\\n</ul><p>Description:\\nThe position covers engineering solutions related to all forms of In-App purchases and services supporting In-App purchases.</p>\\n\\n<p>You will also be responsible for account management features such as authentication, account creation, editing of billing information, security features supporting account changes and managing different aspects of accounts like season passes, pre-orders and more.</p>\\n\\n<p>You will lead a team and work cross-functionally with business development, financial and reporting teams, design, UI, operations, production support, multiple device/client teams and various external partners worldwide. You will be challenged to manage, evolve, and invent new features in the ever changing, nimble e-commerce space. Therefore, you must master new technology quickly, be comfortable working in a fast-paced environment, have a “can-do” attitude, work well in a cross-functional environment, adapt and collaborate well, and lead from the trenches. Join us in this exciting chapter for the growth of the new commerce platform!</p>\\n\\n<p>Education:\\nBS in Computer Science or equivalent. MS preferred.\\nW\\nApple is an Equal Employment Opportunity Employer that is committed to inclusion and diversity. We also take affirmative action to offer employment and advancement opportunities to all applicants, including minorities, women, protected veterans, and individuals with disabilities.</p>\\n\\n<p>REQUISITION NUMBER: 113401948\\nCOMPANY NAME: Apple Inc.</p>\",\n",
       "  \"<p>DESCRIPTION: Changing the world is all in a day's work at Apple. If you love innovation, here's your chance to make a career of it. You'll work hard. But the job comes with more than a few perks.</p>\\n\\n<p>The Apple Media Products Commerce Engineering team has a proud tradition of delivering state of the art products in a competitive marketplace. We seek to maintain a challenging and rewarding environment where the best engineers and scientists can collaborate and produce real-world improvements in customers' online experience. You will solve problems unrivaled in scale and concept in the pursuit of new and creative features.</p>\\n\\n<p>We seeking a talented, experienced Applied Researcher/Data Scientist to work on high visibility projects that affect millions of customers globally. At Apple, great ideas have a way of becoming great products, services, and customer experiences very quickly. If you are a self-motivated, high-energy individual who is not afraid of challenges, we're looking for you.</p>\\n\\n<p>Key Qualifications:  </p>\\n\\n<ul>\\n<li>Strong Machine Learning and Data Mining background.</li>\\n<li>Experience processing large-scale data prototyping, then production-level algorithms.</li>\\n<li>Ability to work with incomplete or imperfect data to extract usable information.</li>\\n<li>Ability to build and interpret machine learning models of complex, high-dimensional systems.</li>\\n<li>Attention to detail, data accuracy and quality of output.</li>\\n<li>Experience of high-level programming language for analysis (e.g. Spark, Scala, Python, R, Java)</li>\\n<li>Experience with large scale distributed data processing frameworks like Hadoop and Spark</li>\\n<li>Highly self-motivated, results driven and data driven. Ability to work in a fast-paced dynamic environment.</li>\\n<li>Experience in payment science is a plus.</li>\\n</ul><p>Description:<br>\\nThe Apple Media Products Commerce Engineering team is looking for someone with a love for data. This position involves working on very large scale data mining, cleaning, analysis, deep level processing, machine learning or statistic modeling, metrics tracking and evaluation. The goal is to improve Apps Store/iTunes Store payment experience and engagement. You should have a passion for quality and an ability to understand complex systems while being able to iterate quickly on all stages of data understanding and modeling to solve the real-world problems.</p>\\n\\n<p>Education:<br>\\nMS in Computer Science, Mathematics or other quantitative disciplines, or equivalent work experience applying machine learning, data mining techniques to real production problems.</p>\\n\\n<p>Ph.D. in Data Mining, Machine Learning, Statistics, Operations Research or related field preferred</p>\\n\\n<p>Additional Requirements:<br>\\nConceive and design end to end data mining solutions to support Apple's business units and initiatives.<br>\\nWork with business owners to map business requirements into technical solutions.<br>\\nDevelop and implement data mining solutions to fit business problem, which may include applying algorithms from a standard tool or custom algorithm development.<br>\\nSupport production data mining solutions.<br>\\nPerform ad hoc statistical and data mining analyses.<br>\\nPresent results of analyses to business units.  </p>\\n\\n<p>Apple is an Equal Employment Opportunity Employer that is committed to inclusion and diversity. We also take affirmative action to offer employment and advancement opportunities to all applicants, including minorities, women, protected veterans, and individuals with disabilities.</p>\\n\\n<p>REQUISITION NUMBER: 113547987\\nCOMPANY NAME: Apple Inc.</p>\",\n",
       "  '<p>Description</p>\\n\\n<p>We are looking for a full stack software engineer to join the Learning Systems and Services team in the Office of Vice Provost for Teaching and Learning at Stanford. Stanford has many of the best and the biggest online courses on the web.  This team builds and operates the open-source platform behind many of them.  Students on-campus and worldwide learn via our course materials and the online communities they create.</p>\\n\\n<p>Technology is disrupting higher education. We believe universities can benefit from this if it\\'s done right. Supporting research is core to what we do. We also believe that universities should be in control of how this space evolves, and that working with an open-source platform is the best way to do that.</p>\\n\\n<p>As a member of our full-stack engineering team, you’ll configure and deploy Open edX-based learning systems, work with the project team to build new features that meet the needs of our customers, and contribute feature back to the open source community. We accomplish that with a lightweight, mostly-Agile development process: quick daily standups, group planning, and stakeholder demos. We work on the Stanford Campus.</p>\\n\\n<p>CORE DUTIES:</p>\\n\\n<ul>\\n<li>Design, develop and test new features for Open edX platform,  configure, customize, and deploy to staging and production servers, and help troubleshoot when CourseOps report production issues.</li>\\n<li>Work closely with CourseOps, User Experience team, and Instructional Designers to understand requirements and specifications for new feature requests, communicate platform updates to support team/IDs, and seek feedback.</li>\\n<li>Document code clearly and thoroughly, so others can maintain and support the code. Document new configuration or processes, and keep all documentation up to date.</li>\\n<li>Serve as a technical resource for applications.</li>\\n<li>Follow team software development methodology.</li>\\n<li>Mentor RAs and Curis Summer Interns as needed. </li>\\n</ul><p>ADDITIONAL INFORMATION:</p>\\n\\n<p>For more information check these links out:</p>\\n\\n<ul>\\n<li>Take a class (our production site): <a href=\"https://lagunita.stanford.edu/\">https://lagunita.stanford.edu/</a>\\n</li>\\n<li>Learn more about Stanford\\'s approach at Stanford Online: <a href=\"https://online.stanford.edu/\">https://online.stanford.edu/</a>\\n</li>\\n<li>Learn more about Open edX: <a href=\"https://open.edx.org/\">https://open.edx.org/</a>\\n</li>\\n<li>See our code: <a href=\"https://github.com/Stanford-Online\">https://github.com/Stanford-Online</a> and <a href=\"http://github.com/edx\">http://github.com/edx</a>\\n</li>\\n</ul><p>Qualifications</p>\\n\\n<p>PREFERRED QUALIFICATIONS:</p>\\n\\n<ul>\\n<li>At least three years development experience (or equivalent) using modern web technologies.  Shipped production-quality code.</li>\\n<li>Proficient in Python or other OO programming languages.</li>\\n<li>Comfortable with full-stack development, ranging from HTML, CSS/SASS, Javascript/jQuery, to Django, MySQL, etc.</li>\\n<li>DevOps experience working with AWS, using automation tools such as Ansible, Jenkins.</li>\\n<li>Experience with relational and NoSQL database systems.  Able to efficiently get data into and out of a store using the right tool.</li>\\n<li>Knowledge of systems and networking.  For example, you should be comfortable identifying the bottleneck resource on a busy system or debugging a distributed systems issue.</li>\\n<li>Self-motivated. You work well when empowered to make decisions about what needs to be done, and when and how to do it.</li>\\n<li>You\\'re a hacker. You value shipping real software to solve real problems. You know that done is better than perfect. You aren\\'t afraid of someone else\\'s code.  You\\'re a tenacious debugger.</li>\\n<li>Assisting other developers by doing good code and design reviews.<br>\\n</li>\\n<li>Comfortable with DVCS using git and Github.  You know your way around \"git rebase -i\".</li>\\n<li>You\\'ve got a good sense for how to figure out what\\'s hard and easy, and can communicate that to others.</li>\\n<li>Bonus: Open Source development experience - extra points for sharing your GitHub/Bitbucket etc. </li>\\n</ul><p>MINIMUM REQUIREMENTS:</p>\\n\\n<p>Education &amp; Experience:\\nBachelor\\'s degree and five years of relevant experience, or a combination of education and relevant experience.</p>\\n\\n<p>Knowledge, Skills and Abilities:</p>\\n\\n<ul>\\n<li>Expertise in designing, developing, testing, and deploying applications.</li>\\n<li>Proficiency with application design and data modeling.</li>\\n<li>Ability to define and solve logical problems for highly technical applications.</li>\\n<li>Strong communication skills with both technical and non-technical clients.</li>\\n<li>Ability to lead activities on structured team development projects.</li>\\n<li>Ability to select, adapt, and effectively use a variety of programming methods.</li>\\n<li>Knowledge of application domain.</li>\\n</ul><p>Certifications and Licenses:</p>\\n\\n<p>None</p>\\n\\n<p>PHYSICAL REQUIREMENTS*:</p>\\n\\n<ul>\\n<li>Constantly perform desk-based computer tasks.</li>\\n<li>Frequently sit, grasp lightly/fine manipulation.</li>\\n<li>Occasionally stand/walk, writing by hand.</li>\\n<li><p>Rarely use a telephone, lift/carry/push/pull objects that weigh up to 10 pounds.</p></li>\\n<li><ul>\\n<li>Consistent with its obligations under the law, the University will provide reasonable accommodation to any employee with a disability who requires accommodation to perform the essential functions of the job.</li>\\n</ul></li>\\n</ul><p>WORKING CONDITIONS:</p>\\n\\n<pre><code>May work extended hours, evening and weekends.\\n</code></pre>\\n\\n<p>WORK STANDARDS:</p>\\n\\n<ul>\\n<li>Interpersonal Skills: Demonstrates the ability to work well with Stanford colleagues and clients and with external organizations.</li>\\n<li>Promote Culture of Safety: Demonstrates commitment to personal responsibility and value for safety; communicates safety concerns; uses and promotes safe behaviors based on training and lessons learned.</li>\\n<li>Subject to and expected to comply with all applicable University policies and procedures, including but not limited to the personnel policies and other policies found in the University\\'s Administrative Guide, <a href=\"http://adminguide.stanford.edu\">http://adminguide.stanford.edu</a>.</li>\\n</ul><p>Stanford is an equal opportunity employer and all qualified applicants will receive consideration without regard to race, color, religion, sex, sexual orientation, gender identity, national origin, disability, veteran status, or any other characteristic protected by law.</p>\\n\\n<p>Job: Information Technology Services\\nLocation: Vice Provost for Teaching and Learning\\nSchedule: Full-time\\nGrade: J\\nJob Code: 4822</p>',\n",
       "  '<p>Your tasks:</p>\\n\\n<ul>\\n<li>Design, modeling, and implementation of all backend parts of LOVOO</li>\\n<li>Development of innovative features for the dating sector in agile and cross functional teams</li>\\n<li>Active increase of code quality through application of XP (e.g. TDD, refactoring, pair programming and CI/CD)</li>\\n<li>Collaborative development of deployment pipelines and runtime environments in the cloud (GCP) in cooperation with our Site Reliability Engineers</li>\\n<li>Regular training and continuous knowledge exchange through in-house tech talks, in-house training and communities</li>\\n<li>Participation in hackathons as well as national and international conferences</li>\\n</ul><p>Our requirements: </p>\\n\\n<ul>\\n<li>Relevant knowledge in dealing with PHP/Go or at least two high programming languages such as Python, Ruby, Rust, C/C++ or Erlang</li>\\n<li>Experience in development of medium/large-scale web applications and distributed systems</li>\\n<li>Secure handling of common design and architectural patterns</li>\\n<li>Knowledge of various backend technologies (e. g. microservices, docker, gRPC, HTTP/2.0, SQL, Redis/memcached) </li>\\n<li>Sound knowledge of common algorithms &amp; data structures</li>\\n<li>Hands-on mentality in working in a cloud environment (like AWS, GCP)</li>\\n<li>Practical experience in agile software development and process management (Scrum/Kanban) and ideally also in working in cross-functional teams</li>\\n<li>Experience with Kubernetes, Cassandra, Redis , PostgreSQL, MongoDB, Google BigQuery, or Google Spanner is a plus</li>\\n<li>Independent, reliable and structured way of working</li>\\n<li>Interest in Open Source as well as willingness for continuing education</li>\\n<li>Sense of humor and excellent communication skills in German or English</li>\\n</ul><p>We offer:</p>\\n\\n<ul>\\n<li>Attractive and competitive salary as well as participation in success</li>\\n<li>Develop and define areas of responsibility directly by implementing your own ideas as well as by taking the lead for independent projects</li>\\n<li>Modern Offices with a pool table, Foosball and ergonomic office equipment right in the heart of the cities of Dresden and Berlin</li>\\n<li>Flexible working hours, Home Office when needed and an equilibrium of work and life</li>\\n<li>Professional and personal development through feedback talks, language classes, MOOC fee reimbursements (e. g. Coursera) as well as in-house events such as ThunderTalks, Showtime, Open Space Days or the LOVOO Compass</li>\\n<li>A motivated and multicultural team with familial spirit</li>\\n<li>Cross-departmental communication and knowledge sharing as well as learning directly in cross-functional teams and an US exchange programs with our parent-company ‘The Meet Group’</li>\\n<li>Opportunity to attend and speak at international conferences &amp; local meetups</li>\\n<li>Assistance with relocation for internationals</li>\\n<li>A rich culinary variety with regular lunch and dinner offers as well as a comprehensive selection of drinks</li>\\n<li>Diverse sports &amp; health offerings plus our own LOVOO Gym</li>\\n</ul>',\n",
       "  '<p>Overview</p>\\n\\n<p>Azavea is a civic technology firm based in Philadelphia that uses geospatial data to build software and data analytics for the web.  As a B Corporation, our mission is to use advanced geospatial technology for civic, social, and environmental impact. Most of our work deals with local governments, non-profit organizations, and academic or federal research projects.  We build custom web applications, perform geospatial analysis, and contribute to open source projects.  Our engineers work across the technology stack, from modern browser-based front-ends to robust service-based backends residing on scalable infrastructure.</p>\\n\\n<p>We are looking for a Software Engineer who is passionate about building and operating applications that will have a positive impact. Ideal candidates are interested in public service, but not necessarily in working for a government or a non-profit organization.</p>\\n\\n<p>We’re excited about what we do, we’re growing, and we hope you will join us.</p>\\n\\n<p>Skills &amp; Requirements</p>\\n\\n<p>Azavea has five software teams, all of which develop web software for processing and visualizing geospatial data.  The teams differ in terms of the specific projects they develop and whether they are primarily product or service focussed. The GeoTrellis team develops an open source software framework that enables low latency, distributed processing of geospatial data; the majority of our work is currently funded by the U.S. Federal government. The project is based on Scala and Apache Spark. It is used in many types of web applications, including processing satellite imagery, climate change, precision agriculture, public transit travel-sheds, and watershed modeling. GeoTrellis is a member of the Eclipse Foundation’s LocationTech working group. A significant focus of the past year has been developing Python Bindings in an effort to expand the pool of developers that can benefit from GeoTrellis. GeoTrellis is growing, and we need your help to expand the framework and make it more useful to other developers.</p>\\n\\n<p>What You’ll Do\\nBuild scalable back-end software where performance is critical.\\nImplement new features, algorithms, data processing operations, benchmarks and tests for a large Scala-based software framework.\\nEngage in multidisciplinary work that applies an agile process (scrum board, daily stand-ups and two-week iterations) to design, architecture, development, testing and deployment.\\nSupport the development of an open source community around the GeoTrellis project.\\nContribute to both a growing company and to the open source communities that support our work.</p>\\n\\n<p>You should\\nDemonstrate fluency with at least one functional programming language such as Scala, Clojure or Haskell.\\nBe able to adapt and lean in order to keep innovating on a cutting edge open source project.\\nHave experience with Amazon Web Service  or another cloud-based architecture.\\nInterested in working with a small, collaborative team on meaningful projects.\\nGet excited about contributing to a large, complex open source project.</p>\\n\\n<p>You get extra points for\\nExperience with Spark, Akka, or other Scala-based distributed processing frameworks.\\nHaving worked with distributed data processing frameworks, like Hadoop, Amazon MR, etc.\\nDemonstrating your open source or other community service contributions.\\nStrong background in algorithm development where performance is critical.</p>\\n\\n<p>You’ll notice that we don’t cite N years of experience or a Computer Science as requirements.  Formal credentials like these are valuable, but we are primarily looking for people who have gained real-world experience successfully building sophisticated web applications.  </p>\\n\\n<p>Office and Benefits</p>\\n\\n<p>Our Philadelphia headquarters is located in a brightly lit office on the 5th floor of a converted factory building in the Callowhill neighborhood, a short walk from Center City, the Reading Terminal Market, and SEPTA subway and regional rail stations. For bicyclists, we have in-house bike parking, a shower and lockers.  The office itself is assembled as an open office plan with several smaller rooms for team meetings and concentration time.  You get your own desk with a high-end Linux workstation or Apple laptop and extra monitors.  We have flex-time to deal with personal stuff, and most people work a 40 - 45 hour week on a regular schedule.  After the first six months, our staff can also spend up to 10% of their time on an open source, professional development, or R&amp;D project.  Recent 10% time projects include experiments with machine learning, Python 3, Reactive Native, and various forms of serverless processing with Amazon Lambda.</p>\\n\\n<p>We offer a salary commensurate with skills and experience and a benefits package that includes:\\nFully subsidized health care, dental, prescription plan, including for spouse/partner and children\\nFully subsidized life and long term disability insurance, plus voluntary short term disability insurance\\nMedical reimbursement plan to cover what the health insurance does not\\nRetirement plan with matching percentage\\nAlmost 4 weeks paid vacation plus additional paid sick/personal time off\\nFamily and medical leave\\nFlexible work schedule\\nPaid maternity and paternity leave\\nChild care subsidy\\nPaid time off for voting and volunteering\\nEducation assistance plan\\nStudent loan assistance\\nPublic transit and biking reimbursement plans\\nMonthly guest lectures with lunches on the house\\n10% time for research or learning projects\\nProfit-sharing bonus plan\\nFinancial transparency through an open book policy\\nKind, capable and thoughtful colleagues</p>\\n\\n<p>We welcome qualified candidates from all walks of life and value diversity in our company. We prohibit discrimination based on race, color, religion, ancestry, national origin, sex, sexual orientation, gender identity, age, veteran status, military service, disability unrelated to job requirements, marital status, or domestic partner status.</p>',\n",
       "  '<p>Manager, Research &amp; Analytics<br>\\nThe Manager, Research &amp; Analytics supports the AWEA analytic agenda through federal and state policy research, electric sector analysis, data collection and management, and market modeling. This position will use broad research methods, data analysis technologies, AWEA member contacts, and smart database management to collect, maintain, and analyze industry statistical information. The position will inform strategic planning and drive member value through the development of tools, data models, and dashboards.  The position also will support the team in maintaining a fluent awareness of market trends and commercial activities. Finally, the role will use quantitative methods to evaluate the impact of potential and existing policies on the industry.</p>\\n\\n<p>Essential Functions/Major Responsibilities:<br>\\nData Management and Quantitative Analysis</p>\\n\\n<ul>\\n<li>Leverage data analysis technologies and data science techniques to collect, organize, store, and analyze data and information</li>\\n<li>Develop, maintain, and enhance database systems, processes, and reporting interfaces. Support the ongoing development of WindIQ and the back-office SQL database supporting the application</li>\\n<li>Build tools, data models, and dashboards to support strategic decision-making and drive member value</li>\\n<li>Support AWEA’s electricity market modeling efforts. Build and leverage quantitative models to evaluate the impact of policies and regulations on wind deployment and operation</li>\\n<li>Conduct market trend analyses and identify new sources of data collection that will inform and support Association decision-making\\nPolicy Analysis, Expertise, and Advocacy</li>\\n<li>Support the AWEA analytical agenda through federal and state policy research, market analysis, and advocacy</li>\\n<li>Evaluate the impact of potential and existing policies on the industry through research, analysis, member communication, and external stakeholder communication</li>\\n<li>Represent the wind industry before members, policy makers, regulators, industry, and the media, serving as both a staff expert for the Government &amp; Public Affairs team and as a public advocate for the industry</li>\\n<li>Leverage AWEA data products and analysis to support public proceedings, legislative session, and other association actions in order to advance AWEA strategic objectives. </li>\\n<li>Develop and deliver fact sheets, position papers, and blog posts on wind industry policy and market issues \\nMarket analysis and statistical information management:</li>\\n<li>Support the population and maintenance of AWEA’s WindIQ database, tracking wind-related manufacturing facilities, wind project transactions, wind power purchase agreements, and other key data items.</li>\\n<li>Provide technical and development support for the publication, distribution and communication of market assessment reports including the AWEA U.S. Quarterly Wind Industry Market Reports and AWEA U.S. Wind Industry Annual Market Reports.</li>\\n<li>Use broad research methods to collect industry information from sources including the Energy Information Administration, Federal Energy Regulatory Commission, state utility regulators and AWEA member outreach.<br>\\n</li>\\n</ul><p>Knowledge, skills and abilities: </p>\\n\\n<ul>\\n<li>Strong quantitative analysis skills. Candidate will routinely work with large, complex datasets.</li>\\n<li>Attention to detail and strong data management skills. The ideal candidate must enjoy collecting, curating, and working with large amounts of data.</li>\\n<li>Strong understanding of the technical features of the electric industry. Awareness of the major political and regulatory issues and topics impacting the U.S. wind industry a plus.</li>\\n<li>Strong written and oral communication, with the ability to tailor information to audiences of varying technical capabilities.</li>\\n<li>Technical writing and editing skills. Ability to prioritize and complete a variety of tasks efficiently.</li>\\n<li>Ability to use spreadsheet and presentation software, including Excel and PowerPoint. Advanced analytical software skills including Tableau, SQL, R, Python, etc., a must.</li>\\n<li>Interpersonal skills and ability to work in a collaborative team environment. </li>\\n</ul><p>Education and/or Experience\\nAWEA is seeking applicants whom reflect and understand our core values: We HEART Wind Energy, The Truth Prevails, Together We Succeed, and Ahead of the Curve. Qualified applicants may possess any combination of education and experience enabling them to successfully perform the responsibilities of the position. Qualifications are: Bachelor’s degree required. Master’s degree in economics, engineering, statistics, computer science, or related field preferred. Seeking candidates with a combination of eight years of experience in policy, advocacy, or research and at least five years of industry specific preferred or an equivalent combination of education and experience; with three years of management experience.</p>\\n\\n<p>To apply: Send how you heard about this job, cover letter, salary requirement, start date availability, and resume to <a href=\"mailto:ResearchJobs@awea.org\">ResearchJobs@awea.org</a> (use “[Your Name]-Manager, Research &amp; Analytics” in subject line) or mail to AWEA, 1501 M Street NW, Suite 900, Washington, DC 20005;  Attention:  Human Resources. </p>\\n\\n<p>AWEA is Metro accessible and provides a generous benefit package. To learn more visit <a href=\"http://www.awea.org\">www.awea.org</a>.\\nAWEA is an Equal Opportunity Employer.</p>',\n",
       "  \"<p><strong>We’re Looking for Rockstars to Join Our Team!</strong></p>\\n\\n<p>At Suvoda, we’re not only passionate about the work that we do and the impact that it has on human lives, but we’re passionate about the people who make it happen! Every day, it is our priority to bring in talented and motivated individuals and create a workplace that drives, engages and retains them.</p>\\n\\n<p><strong>What Makes Suvoda a Great Place to Work?</strong></p>\\n\\n<p>Here are just a few highlights:</p>\\n\\n<ul>\\n<li>Your colleagues: You’ll be surrounded by smart, friendly team players that truly care about the work they do, and there are plenty of happy hours and teambuilding events to connect outside work</li>\\n<li>The flexibility: Suvoda creates the perfect environment for people to integrate their work and life, by offering flexible working hours and the tools to work from home as needed</li>\\n<li>The growth and innovation: As part of a growing team, you’ll have lots of opportunities for career development and be exposed to the latest technologies due to our focus on remaining innovative</li>\\n<li>The office: Our newly renovated, modern office space is located in the city center and is equipped with comfortable work spaces, collaborative gathering areas and modern technology that easily connects you to all of our global offices</li>\\n<li>The benefits: You’ll have access to a robust benefits package, like free lunch at the office every day, a top subscription from Romania’s top healthcare provider, a fitness stipend, and competitive salaries with bonus plans</li>\\n<li>The industry: By working in clinical trials, you’’ll be part of a challenging and rewarding industry that will allow you to develop your skills quickly while doing your part to change the world.</li>\\n</ul><p><strong>What Should You Expect?</strong></p>\\n\\n<p>As a Software Test Engineer, you’ll be part of a six- to nine-person, cross-functional, international project team, working together to build web applications used by pharmaceutical and biotech clients during the clinical trial process.</p>\\n\\n<p><strong>Your role will include:</strong></p>\\n\\n<ul>\\n<li>Working to deliver custom software solutions that streamline the clinical trial process for pharmaceutical and biotech clients.</li>\\n<li>Ensuring the correct functioning of clinical trial software with focus on patient safety and integrity of clinical study data.</li>\\n<li>Ensuring all activities and deliverables comply with FDA regulations.</li>\\n<li>Verifying that system requirements are clear, testable, and consistent with the clinical trial protocol.</li>\\n<li>Developing validation plans according to a risk-based testing methodology.</li>\\n<li>Authoring and managing the completion of all validation related deliverables on each project: test summary report, etc.</li>\\n<li>Authoring and executing test scripts.</li>\\n<li>Documenting defects and tracking resolution.</li>\\n<li>Performing other related duties as required.</li>\\n</ul><p><strong>Essential requirements:</strong></p>\\n\\n<ul>\\n<li>Bachelor's degree (in computer science preferred) or college degree in progress.</li>\\n<li>1-3 years’ experience in software testing of Enterprise or Web applications.</li>\\n<li>Experience with multiple testing methods such as: smoke tests, black-box, white-box, gray-box, boundary testing.</li>\\n<li>Basic knowledge of RDBMS principles and SQL.</li>\\n<li>Ability to learn technological applications, conduct in-depth investigative research, read and understand code, and determine and execute the best test methods for complex systems.</li>\\n<li>Highly proficient in spoken and written English.</li>\\n</ul><p><strong>Nice to have:</strong></p>\\n\\n<ul>\\n<li>Advanced knowledge of RDBMS principles – complex queries, design for performance and efficiency, etc.;</li>\\n<li>Familiarity with Agile software development philosophy, principles, and techniques;</li>\\n<li>Familiarity with Automation tools and principles of Automation;</li>\\n<li>Familiarity with Java or any scripting knowledge.</li>\\n</ul><p><strong>Join us if you think we can accomplish great things together!</strong></p>\",\n",
       "  '<p>About us</p>\\n\\n<p>Magazino stands for robotics in a real world application with the best ROS team in Europe with which we are on the edge of new technologies. We offer interesting and challenging tasks, responsibility from the beginnig, freedom of choice, a relaxed atmosphere, a bundle of benefits and a fantasic team. Are you interested how this looks like? Come and see!</p>\\n\\n<p>Your tasks</p>\\n\\n<ul>\\n<li><p>Design and implement scalable software solutions in all areas of the robot, including task-level coordination, information management, automated reasoning</p></li>\\n<li><p>Test and evaluation of the developed approaches in real warehouses at our customers’ sites</p></li>\\n<li><p>Support and advice the team in complex software and implementation issues</p></li>\\n</ul><p>Requirements</p>\\n\\n<ul>\\n<li><p>Master in software engineering, computer science or similar studies</p></li>\\n<li><p>3+ years of experience in professional software development</p></li>\\n<li><p>Good programming skills in C++ and Python</p></li>\\n<li><p>Hands-on mentality, motivated to find the right solutions and get things done</p></li>\\n<li><p>Structured and independent working style</p></li>\\n<li><p>Enthusiasm for robots that do stuff in the real world</p></li>\\n<li><p>Fluent English required, basic knowledge of German helpful</p></li>\\n</ul><p>What we have to offer</p>\\n\\n<ul>\\n<li><p>A future-oriented job in a quickly growing company</p></li>\\n<li><p>High personal responsibility &amp; room to bring your ideas into action</p></li>\\n<li><p>An innovative team with flat hierarchies</p></li>\\n<li><p>Great opportunity to look inside the scenery of the new generation of robotics</p></li>\\n<li><p>100% start-up atmosphere - Drinks and Food for free!</p></li>\\n</ul>',\n",
       "  '<p>Multiple roles in Perth, Brisbane and Melbourne. </p>\\n\\n<p>Who are we?</p>\\n\\n<p>The Simulation Group is an Australia-based world leader in detailed analytics, simulation and optimisation of complex supply chains, but there is more. Whilst we pride ourselves on the deep insights we liberate from large datasets, our curious nature leads us down a range of fascinating paths. </p>\\n\\n<p>You will be joining a growing development team, working closely with the consulting projects to turn these insights into real and tangible digital assets. Positions exist across our offices in Perth, Brisbane or Melbourne.</p>\\n\\n<p>What is the opportunity? </p>\\n\\n<ul>\\n<li>Develop and extend our cloud based software platform and infrastructure for supporting client decision making.</li>\\n<li>Turn analytics Proof of Concepts into Enterprise Ready digital assets.</li>\\n<li>Work with Operations Research and Decision Science experts in various large operations including mining, logistics and transportation sectors.</li>\\n<li>Work in a tight project based work environment, delivering solutions beyond to your clients’ expectations.</li>\\n<li>A supportive and collaborative culture that encourages new ways of solving problems.</li>\\n</ul><p>Who are we looking for? </p>\\n\\n<ul>\\n<li>Proven understanding of software development, OO design, continuous delivery and test-driven development. </li>\\n<li>Passionate problem solvers, ideally you have an understanding of data science techniques.</li>\\n<li>Preferred experience in ES6, React, Node.js, SQL, Docker with a keen interest in learning new technologies.</li>\\n<li>People who thrive in a collaborative team based environment based on open communication. </li>\\n<li>Those passionate to deliver solutions with integrity to client deadlines and under pressure.</li>\\n<li>Tertiary qualifications in Computer Science or similar. </li>\\n<li>Additionally, a background or further studies in Mathematics/Statistics, Science, or Operations Research will be viewed favourably. </li>\\n<li>Excellent results in these areas of study together with a humble and curious nature is your formula for success. </li>\\n</ul><p>What The Simulation Group offer:</p>\\n\\n<ul>\\n<li>Work closely with similarly capable curious minded problem solvers.</li>\\n<li>An inspiring work environment focused on teamwork and delivery. </li>\\n<li>Opportunity to work on industry leading projects with a range of technologies.</li>\\n<li>A supportive learning culture, career progression and mentoring opportunities.</li>\\n</ul><p>Please send through a resume including any other information or samples of work you may have done to recruitment@thesimulationgroup.com. </p>\\n\\n<p>We would love to hear from you before Thursday, 1 March 2018.</p>'],\n",
       " 'id': ['c874a88e-2c57-11e8-9f81-fb7e0430a01d',\n",
       "  '2d38955a-2933-11e8-8c8d-3a61e9e8902a',\n",
       "  'b9a0b29a-1117-11e8-9360-64724fb3d916',\n",
       "  'cc045588-25c9-11e8-85b9-971b619662a6',\n",
       "  'f627e298-1da0-11e8-9e4b-ca05176d6b22',\n",
       "  'fa9bccde-1663-11e8-9bf3-21a173e0fef0',\n",
       "  '47811294-22a7-11e8-8bd6-eee4c9926b43',\n",
       "  '0b3fccfe-17ca-11e8-8350-d81c343026fa',\n",
       "  'b69d1b8a-1778-11e8-8a67-23b282c57adf'],\n",
       " 'image': ['http://github-jobs.s3.amazonaws.com/c5bc8c38-2c57-11e8-9e97-cf53a2efa65e.jpeg',\n",
       "  'http://github-jobs.s3.amazonaws.com/0bf34dae-2933-11e8-8ea3-77e32a12c527.jpeg',\n",
       "  'http://github-jobs.s3.amazonaws.com/5431b062-1117-11e8-875d-0e51d910f4f5.jpg',\n",
       "  'http://github-jobs.s3.amazonaws.com/64c0eda4-25c5-11e8-85d4-bba6dc49fccd.png',\n",
       "  'http://github-jobs.s3.amazonaws.com/e81877b2-1da0-11e8-9e17-4c005e6832d9.png',\n",
       "  'http://github-jobs.s3.amazonaws.com/ee12d228-1663-11e8-8e53-bf877c5228c7.gif',\n",
       "  'http://github-jobs.s3.amazonaws.com/22aabf24-22a7-11e8-897a-bac2786f6af4.jpg',\n",
       "  'http://github-jobs.s3.amazonaws.com/038796d6-17ca-11e8-9605-737d843bd8ae.jpg',\n",
       "  'http://github-jobs.s3.amazonaws.com/f2e7b0b8-16e3-11e8-823d-473c83cd2515.jpg'],\n",
       " 'link': ['http://jobs.github.com/positions/c874a88e-2c57-11e8-9f81-fb7e0430a01d',\n",
       "  'http://jobs.github.com/positions/2d38955a-2933-11e8-8c8d-3a61e9e8902a',\n",
       "  'http://jobs.github.com/positions/b9a0b29a-1117-11e8-9360-64724fb3d916',\n",
       "  'http://jobs.github.com/positions/cc045588-25c9-11e8-85b9-971b619662a6',\n",
       "  'http://jobs.github.com/positions/f627e298-1da0-11e8-9e4b-ca05176d6b22',\n",
       "  'http://jobs.github.com/positions/fa9bccde-1663-11e8-9bf3-21a173e0fef0',\n",
       "  'http://jobs.github.com/positions/47811294-22a7-11e8-8bd6-eee4c9926b43',\n",
       "  'http://jobs.github.com/positions/0b3fccfe-17ca-11e8-8350-d81c343026fa',\n",
       "  'http://jobs.github.com/positions/b69d1b8a-1778-11e8-8a67-23b282c57adf'],\n",
       " 'location': ['New York',\n",
       "  'Cupertino, CA',\n",
       "  'Stanford, CA',\n",
       "  'Dresden',\n",
       "  'Philadelphia',\n",
       "  'Washington DC',\n",
       "  'Bucharest',\n",
       "  'Munich',\n",
       "  'Perth, Brisbane or Melbourne, AUS'],\n",
       " 'name': ['Commerce Software Engineer, Apple Media Products',\n",
       "  'Commerce Data Scientist - Apple Media Products',\n",
       "  'Software Engineer',\n",
       "  'Software Engineer (m/f)',\n",
       "  'Software Engineer',\n",
       "  'Manager, Research & Analytics',\n",
       "  'Software Test Engineer',\n",
       "  'Software Developer Python (m/f)',\n",
       "  'Full Stack Developers - Operations Research | Digital Assets'],\n",
       " 'provider': ['Github Jobs',\n",
       "  'Github Jobs',\n",
       "  'Github Jobs',\n",
       "  'Github Jobs',\n",
       "  'Github Jobs',\n",
       "  'Github Jobs',\n",
       "  'Github Jobs',\n",
       "  'Github Jobs',\n",
       "  'Github Jobs']}"
      ]
     },
     "execution_count": 36,
     "metadata": {},
     "output_type": "execute_result"
    }
   ],
   "source": [
    "github_jobs"
   ]
  },
  {
   "cell_type": "code",
   "execution_count": null,
   "metadata": {},
   "outputs": [],
   "source": []
  }
 ],
 "metadata": {
  "kernelspec": {
   "display_name": "Python 3",
   "language": "python",
   "name": "python3"
  },
  "language_info": {
   "codemirror_mode": {
    "name": "ipython",
    "version": 3
   },
   "file_extension": ".py",
   "mimetype": "text/x-python",
   "name": "python",
   "nbconvert_exporter": "python",
   "pygments_lexer": "ipython3",
   "version": "3.6.4"
  }
 },
 "nbformat": 4,
 "nbformat_minor": 2
}
