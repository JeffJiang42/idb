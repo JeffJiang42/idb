{
 "cells": [
  {
   "cell_type": "code",
   "execution_count": 7,
   "metadata": {},
   "outputs": [],
   "source": [
    "import requests\n",
    "import json\n",
    "from bs4 import BeautifulSoup\n",
    "import pandas as pd"
   ]
  },
  {
   "cell_type": "code",
   "execution_count": 8,
   "metadata": {},
   "outputs": [],
   "source": [
    "key = \"e3bef03ea4fa4ba826f7f76cecf6f1ce\""
   ]
  },
  {
   "cell_type": "code",
   "execution_count": 9,
   "metadata": {},
   "outputs": [],
   "source": [
    "df = pd.read_csv(\"courses.csv\",encoding = \"ISO-8859-1\")"
   ]
  },
  {
   "cell_type": "code",
   "execution_count": 10,
   "metadata": {},
   "outputs": [],
   "source": [
    "categories = list(df[\"Subject\"].unique())"
   ]
  },
  {
   "cell_type": "markdown",
   "metadata": {},
   "source": [
    "### Authentic Jobs"
   ]
  },
  {
   "cell_type": "code",
   "execution_count": 11,
   "metadata": {},
   "outputs": [],
   "source": [
    "authentic_jobs = {\"name\": [], \n",
    "                  \"company\": [], \n",
    "                  \"provider\": [], \n",
    "                  \"image\":[],\n",
    "                  \"link\":[],\n",
    "                  \"desc\": [],\n",
    "                  \"subjects\": []} "
   ]
  },
  {
   "cell_type": "code",
   "execution_count": 12,
   "metadata": {
    "scrolled": true
   },
   "outputs": [
    {
     "name": "stdout",
     "output_type": "stream",
     "text": [
      "Statistics Probability\n",
      "Probability\n",
      "Multivariable Calculus\n",
      "Differential Equations\n",
      "Linear Algebra\n",
      "Physics\n",
      "Chemistry\n",
      "Organic Chemistry\n",
      "Biology\n",
      "High School Biology\n",
      "Cosmology And Astronomy\n",
      "Electrical Engineering\n",
      "Macroeconomics\n",
      "Microeconomics\n",
      "Core Finance\n",
      "Us History\n",
      "World History\n",
      "Art History\n",
      "Grammar\n",
      "Music\n",
      "Computer Programming\n",
      "Computer Science\n",
      "Web Development\n",
      "Other\n",
      "Programming Languages\n",
      "Personal Transformation\n",
      "Personal Finance\n",
      "Data & Analytics\n",
      "Memory & Study Skills\n",
      "Home Business\n",
      "Operating Systems\n",
      "Mobile Apps\n",
      "Finance\n",
      "Network & Security\n",
      "IT Certification\n",
      "Math & Science\n",
      "Microsoft\n",
      "Project Management\n",
      "Entrepreneurship\n",
      "Databases\n",
      "Software Testing\n",
      "Development Tools\n",
      "Meditation\n",
      "Communications\n",
      "Web Design\n",
      "Software Engineering\n",
      "Sports\n",
      "Social Media Marketing\n",
      "Digital Marketing\n",
      "Game Development\n",
      "User Experience\n",
      "Creativity\n",
      "Video Design\n",
      "Leadership\n",
      "Influence\n",
      "Game Design\n",
      "Management\n",
      "Marketing Fundamentals\n",
      "Graphic Design\n",
      "Music Fundamentals\n",
      "Motivation\n",
      "3D & Animation\n",
      "Content Marketing\n",
      "Productivity\n",
      "Career Development\n",
      "Photography Fundamentals\n",
      "Religion & Spirituality\n",
      "Design Tools\n",
      "Photography Tools\n",
      "Affiliate Marketing\n",
      "Branding\n",
      "Mental Health\n",
      "Media\n",
      "Search Engine Optimization\n",
      "Instruments\n",
      "Mobile Photography\n",
      "Production\n",
      "Arts & Crafts\n",
      "Sales\n",
      "Strategy\n",
      "Self Esteem\n",
      "Music Software\n",
      "Growth Hacking\n",
      "Vocal\n",
      "Hardware\n",
      "Pet Care & Training\n",
      "English\n",
      "Nutrition\n",
      "Real Estate\n",
      "Test Taking Skills\n",
      "Analytics & Automation\n",
      "Self Defense\n",
      "Digital Photography\n",
      "Yoga\n",
      "Japanese\n",
      "Oracle\n",
      "Spanish\n",
      "German\n",
      "Teaching Tools\n",
      "Chinese\n",
      "Operations\n",
      "Architectural Design\n",
      "Italian\n",
      "E-Commerce\n",
      "Music Techniques\n",
      "Parenting & Relationships\n",
      "Fitness\n",
      "Humanities\n",
      "Other Programming\n",
      "Happiness\n",
      "Landscape\n",
      "Advertising\n",
      "General Health\n",
      "Food & Beverage\n",
      "Wedding Photography\n",
      "Interior Design\n",
      "Gaming\n",
      "Russian\n",
      "Industry\n",
      "Grad Entry Exam\n",
      "SAP\n",
      "Video & Mobile Marketing\n",
      "Product Marketing\n",
      "Black & White\n",
      "Design Thinking\n",
      "Personal Brand Building\n",
      "Portraits\n",
      "Instructional Design\n",
      "Fashion\n",
      "Commercial Photography\n",
      "Stress Management\n",
      "Travel\n",
      "Intuit\n",
      "Human Resources\n",
      "French\n",
      "Google\n",
      "Dieting\n",
      "Travel Photography\n",
      "Apple\n",
      "Salesforce\n"
     ]
    }
   ],
   "source": [
    "for subject in categories:\n",
    "    print(subject)\n",
    "    pages = None\n",
    "    curr = 1\n",
    "    while pages is None or curr <= pages:\n",
    "        url = \"https://authenticjobs.com/api/?api_key=\"+key+\"&method=aj.jobs.search&keywords=\"+subject+\"&page=\"+str(curr)\n",
    "        r = requests.get(url)\n",
    "        soup = BeautifulSoup(r.text,'lxml')\n",
    "        if pages is None:\n",
    "            pages = int(soup.listings['pages'])\n",
    "        listings = soup.listings.find_all(\"listing\")\n",
    "        for listing in listings:\n",
    "            authentic_jobs[\"name\"].append(listing[\"title\"]+\"_\"+listing[\"id\"])\n",
    "            authentic_jobs[\"company\"].append(listing.company[\"name\"])\n",
    "            authentic_jobs[\"provider\"].append(\"Authentic Jobs\")\n",
    "            authentic_jobs[\"image\"].append(listing.company[\"logo\"])\n",
    "            authentic_jobs[\"link\"].append(listing[\"apply_url\"])\n",
    "            authentic_jobs[\"desc\"].append(listing[\"description\"])\n",
    "            authentic_jobs[\"subjects\"].append(subject)\n",
    "        curr += 1\n",
    "        "
   ]
  },
  {
   "cell_type": "code",
   "execution_count": 13,
   "metadata": {},
   "outputs": [],
   "source": [
    "len_ = len(authentic_jobs[\"name\"])\n",
    "for key in authentic_jobs:\n",
    "    assert len(authentic_jobs[\"name\"])==len_"
   ]
  },
  {
   "cell_type": "code",
   "execution_count": 14,
   "metadata": {},
   "outputs": [],
   "source": [
    "auth_jobs_df = pd.DataFrame.from_dict(authentic_jobs)"
   ]
  },
  {
   "cell_type": "code",
   "execution_count": 15,
   "metadata": {},
   "outputs": [],
   "source": [
    "agg_dict = {key:\"first\" if key != \"subjects\" else ', '.join for key in auth_jobs_df.columns }\n",
    "auth_jobs_df = auth_jobs_df.groupby(auth_jobs_df[\"name\"]).agg(agg_dict)"
   ]
  },
  {
   "cell_type": "code",
   "execution_count": 16,
   "metadata": {},
   "outputs": [],
   "source": [
    "auth_jobs_df[\"name\"] = auth_jobs_df[\"name\"].apply(lambda x: ''.join(x.split(\"_\")[:-1]))"
   ]
  },
  {
   "cell_type": "code",
   "execution_count": 17,
   "metadata": {},
   "outputs": [],
   "source": [
    "auth_jobs_df2 = auth_jobs_df[[col for col in auth_jobs_df.columns if col!=\"name2\" and col!=\"name\"]]"
   ]
  },
  {
   "cell_type": "code",
   "execution_count": 18,
   "metadata": {},
   "outputs": [],
   "source": [
    "auth_jobs_df = auth_jobs_df2.reset_index()"
   ]
  },
  {
   "cell_type": "code",
   "execution_count": 19,
   "metadata": {},
   "outputs": [],
   "source": [
    "auth_jobs_df.to_csv(\"authentic_jobs.csv\")"
   ]
  },
  {
   "cell_type": "code",
   "execution_count": null,
   "metadata": {
    "collapsed": true
   },
   "outputs": [],
   "source": []
  }
 ],
 "metadata": {
  "kernelspec": {
   "display_name": "Python 3",
   "language": "python",
   "name": "python3"
  },
  "language_info": {
   "codemirror_mode": {
    "name": "ipython",
    "version": 3
   },
   "file_extension": ".py",
   "mimetype": "text/x-python",
   "name": "python",
   "nbconvert_exporter": "python",
   "pygments_lexer": "ipython3",
   "version": "3.6.4"
  }
 },
 "nbformat": 4,
 "nbformat_minor": 2
}
